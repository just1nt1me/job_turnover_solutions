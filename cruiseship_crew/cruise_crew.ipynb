{
  "cells": [
    {
      "attachments": {},
      "cell_type": "markdown",
      "id": "DOWRyVc3Y14h",
      "metadata": {
        "colab": {
          "base_uri": "https://localhost:8080/",
          "height": 131
        },
        "id": "DOWRyVc3Y14h",
        "outputId": "a4c10cd2-fd31-4d12-d68b-3224fcdad6e7"
      },
      "source": [
        "<img src=\"https://upload.wikimedia.org/wikipedia/commons/7/7c/Kaggle_logo.png\" align=\"left\" height=100 width=200>"
      ]
    },
    {
      "attachments": {},
      "cell_type": "markdown",
      "id": "WfTXB5NfYo8Y",
      "metadata": {
        "colab": {
          "base_uri": "https://localhost:8080/",
          "height": 131
        },
        "id": "WfTXB5NfYo8Y",
        "outputId": "90ad4ac1-aa7c-4e73-83bf-b4a2677429c6"
      },
      "source": [
        "[**Kaggle - Cruise Ship Data**](https://www.kaggle.com/datasets/shauryajain/cruise-ship-data)"
      ]
    },
    {
      "attachments": {},
      "cell_type": "markdown",
      "id": "4a0b4199",
      "metadata": {},
      "source": [
        "# ℹ️ Readme"
      ]
    },
    {
      "attachments": {},
      "cell_type": "markdown",
      "id": "961eb530",
      "metadata": {},
      "source": [
        "* ✍️ This notebook was written by [Justin Carville](https://github.com/just1nt1me)\n",
        "* 🎯 The goal is build a machine learning model that can predict how many crew members are needed for a cruise ship."
      ]
    },
    {
      "attachments": {},
      "cell_type": "markdown",
      "id": "e5c337d0",
      "metadata": {
        "id": "e5c337d0"
      },
      "source": [
        "# 📚 Import Libraries"
      ]
    },
    {
      "cell_type": "code",
      "execution_count": null,
      "id": "05182070",
      "metadata": {
        "id": "05182070"
      },
      "outputs": [],
      "source": [
        "# DATA MANIPULTION \n",
        "import pandas as pd \n",
        "import numpy as np\n",
        "\n",
        "# DATA VIZ\n",
        "import matplotlib.pyplot as plt\n",
        "import japanize_matplotlib\n",
        "import seaborn as sns\n",
        "\n",
        "# STATS\n",
        "from scipy import stats\n",
        "from statsmodels.graphics.gofplots import qqplot\n",
        "\n",
        "# MACHINE LEARNING\n",
        "## MODEL SELECTION\n",
        "from sklearn.model_selection import train_test_split, cross_validate, cross_val_score\n",
        "## SCALERS\n",
        "from sklearn.preprocessing import RobustScaler, StandardScaler\n",
        "# LINEAR MODELS\n",
        "from sklearn.linear_model import LinearRegression, Ridge, Lasso, ElasticNet, SGDRegressor\n",
        "# NEIGHBORS\n",
        "from sklearn.neighbors import KNeighborsRegressor\n",
        "# SVM\n",
        "from sklearn.svm import SVR\n",
        "# TREES AND ENSEMBLE METHODS\n",
        "from sklearn.tree import DecisionTreeRegressor\n",
        "from sklearn.ensemble import RandomForestRegressor, AdaBoostRegressor, GradientBoostingRegressor\n",
        "## EVALUATION\n",
        "from sklearn.metrics import mean_absolute_error, mean_squared_error, r2_score\n",
        "## MODEL TUNING\n",
        "from sklearn.model_selection import GridSearchCV"
      ]
    },
    {
      "attachments": {},
      "cell_type": "markdown",
      "id": "70c21b04",
      "metadata": {
        "id": "70c21b04"
      },
      "source": [
        "# 💾 Dataset and EDA"
      ]
    },
    {
      "cell_type": "code",
      "execution_count": null,
      "id": "c70ace26",
      "metadata": {
        "id": "c70ace26"
      },
      "outputs": [],
      "source": [
        "# import csv as dataframe\n",
        "data = pd.read_csv('Sample_Data.csv', encoding = 'shift_jis')"
      ]
    },
    {
      "cell_type": "code",
      "execution_count": null,
      "id": "bc51e0f8",
      "metadata": {
        "id": "bc51e0f8",
        "outputId": "8bc0fa02-718f-4511-dbf2-a2cbc892f8e3"
      },
      "outputs": [
        {
          "data": {
            "text/html": [
              "<div>\n",
              "<style scoped>\n",
              "    .dataframe tbody tr th:only-of-type {\n",
              "        vertical-align: middle;\n",
              "    }\n",
              "\n",
              "    .dataframe tbody tr th {\n",
              "        vertical-align: top;\n",
              "    }\n",
              "\n",
              "    .dataframe thead th {\n",
              "        text-align: right;\n",
              "    }\n",
              "</style>\n",
              "<table border=\"1\" class=\"dataframe\">\n",
              "  <thead>\n",
              "    <tr style=\"text-align: right;\">\n",
              "      <th></th>\n",
              "      <th>船名</th>\n",
              "      <th>グルーズ名</th>\n",
              "      <th>経過年数</th>\n",
              "      <th>トン数</th>\n",
              "      <th>乗客数</th>\n",
              "      <th>長さ</th>\n",
              "      <th>船室</th>\n",
              "      <th>乗客密度</th>\n",
              "      <th>乗組員</th>\n",
              "    </tr>\n",
              "  </thead>\n",
              "  <tbody>\n",
              "    <tr>\n",
              "      <th>0</th>\n",
              "      <td>Journey</td>\n",
              "      <td>Azamara</td>\n",
              "      <td>6</td>\n",
              "      <td>30.277</td>\n",
              "      <td>6.94</td>\n",
              "      <td>5.94</td>\n",
              "      <td>3.55</td>\n",
              "      <td>42.64</td>\n",
              "      <td>3.55</td>\n",
              "    </tr>\n",
              "    <tr>\n",
              "      <th>1</th>\n",
              "      <td>Quest</td>\n",
              "      <td>Azamara</td>\n",
              "      <td>6</td>\n",
              "      <td>30.277</td>\n",
              "      <td>6.94</td>\n",
              "      <td>5.94</td>\n",
              "      <td>3.55</td>\n",
              "      <td>42.64</td>\n",
              "      <td>3.55</td>\n",
              "    </tr>\n",
              "    <tr>\n",
              "      <th>2</th>\n",
              "      <td>Celebration</td>\n",
              "      <td>Carnival</td>\n",
              "      <td>26</td>\n",
              "      <td>47.262</td>\n",
              "      <td>14.86</td>\n",
              "      <td>7.22</td>\n",
              "      <td>7.43</td>\n",
              "      <td>31.80</td>\n",
              "      <td>6.70</td>\n",
              "    </tr>\n",
              "    <tr>\n",
              "      <th>3</th>\n",
              "      <td>Conquest</td>\n",
              "      <td>Carnival</td>\n",
              "      <td>11</td>\n",
              "      <td>110.000</td>\n",
              "      <td>29.74</td>\n",
              "      <td>9.53</td>\n",
              "      <td>14.88</td>\n",
              "      <td>36.99</td>\n",
              "      <td>19.10</td>\n",
              "    </tr>\n",
              "    <tr>\n",
              "      <th>4</th>\n",
              "      <td>Destiny</td>\n",
              "      <td>Carnival</td>\n",
              "      <td>17</td>\n",
              "      <td>101.353</td>\n",
              "      <td>26.42</td>\n",
              "      <td>8.92</td>\n",
              "      <td>13.21</td>\n",
              "      <td>38.36</td>\n",
              "      <td>10.00</td>\n",
              "    </tr>\n",
              "  </tbody>\n",
              "</table>\n",
              "</div>"
            ],
            "text/plain": [
              "            船名     グルーズ名  経過年数      トン数    乗客数    長さ     船室   乗客密度    乗組員\n",
              "0      Journey   Azamara     6   30.277   6.94  5.94   3.55  42.64   3.55\n",
              "1        Quest   Azamara     6   30.277   6.94  5.94   3.55  42.64   3.55\n",
              "2  Celebration  Carnival    26   47.262  14.86  7.22   7.43  31.80   6.70\n",
              "3     Conquest  Carnival    11  110.000  29.74  9.53  14.88  36.99  19.10\n",
              "4      Destiny  Carnival    17  101.353  26.42  8.92  13.21  38.36  10.00"
            ]
          },
          "execution_count": 47,
          "metadata": {},
          "output_type": "execute_result"
        }
      ],
      "source": [
        "data.head()"
      ]
    },
    {
      "cell_type": "code",
      "execution_count": null,
      "id": "10a6d078",
      "metadata": {
        "id": "10a6d078",
        "outputId": "e611a6a6-b96a-4676-b4f5-7cba85b93315"
      },
      "outputs": [
        {
          "data": {
            "text/plain": [
              "(158, 9)"
            ]
          },
          "execution_count": 48,
          "metadata": {},
          "output_type": "execute_result"
        }
      ],
      "source": [
        "data.shape"
      ]
    },
    {
      "cell_type": "code",
      "execution_count": null,
      "id": "d45d7627",
      "metadata": {
        "id": "d45d7627",
        "outputId": "8c6d3aea-438e-40c3-eadd-a56e09717428"
      },
      "outputs": [
        {
          "data": {
            "text/plain": [
              "船名       138\n",
              "グルーズ名     20\n",
              "経過年数      31\n",
              "トン数       94\n",
              "乗客数      104\n",
              "長さ        80\n",
              "船室        98\n",
              "乗客密度     109\n",
              "乗組員       91\n",
              "dtype: int64"
            ]
          },
          "execution_count": 49,
          "metadata": {},
          "output_type": "execute_result"
        }
      ],
      "source": [
        "data.nunique()"
      ]
    },
    {
      "cell_type": "code",
      "execution_count": null,
      "id": "8fe8df96",
      "metadata": {
        "id": "8fe8df96",
        "outputId": "4bc212c2-5e52-45fc-ffdf-934d2e8e74e7"
      },
      "outputs": [
        {
          "data": {
            "text/plain": [
              "船名        object\n",
              "グルーズ名     object\n",
              "経過年数       int64\n",
              "トン数      float64\n",
              "乗客数      float64\n",
              "長さ       float64\n",
              "船室       float64\n",
              "乗客密度     float64\n",
              "乗組員      float64\n",
              "dtype: object"
            ]
          },
          "execution_count": 50,
          "metadata": {},
          "output_type": "execute_result"
        }
      ],
      "source": [
        "data.dtypes"
      ]
    },
    {
      "cell_type": "code",
      "execution_count": null,
      "id": "730903e4",
      "metadata": {
        "id": "730903e4",
        "outputId": "1da1d3e5-c7ba-472f-9fcc-6a424f4d27e2"
      },
      "outputs": [
        {
          "data": {
            "text/html": [
              "<div>\n",
              "<style scoped>\n",
              "    .dataframe tbody tr th:only-of-type {\n",
              "        vertical-align: middle;\n",
              "    }\n",
              "\n",
              "    .dataframe tbody tr th {\n",
              "        vertical-align: top;\n",
              "    }\n",
              "\n",
              "    .dataframe thead th {\n",
              "        text-align: right;\n",
              "    }\n",
              "</style>\n",
              "<table border=\"1\" class=\"dataframe\">\n",
              "  <thead>\n",
              "    <tr style=\"text-align: right;\">\n",
              "      <th></th>\n",
              "      <th>経過年数</th>\n",
              "      <th>トン数</th>\n",
              "      <th>乗客数</th>\n",
              "      <th>長さ</th>\n",
              "      <th>船室</th>\n",
              "      <th>乗客密度</th>\n",
              "      <th>乗組員</th>\n",
              "    </tr>\n",
              "  </thead>\n",
              "  <tbody>\n",
              "    <tr>\n",
              "      <th>count</th>\n",
              "      <td>158.000000</td>\n",
              "      <td>158.000000</td>\n",
              "      <td>158.000000</td>\n",
              "      <td>158.000000</td>\n",
              "      <td>158.000000</td>\n",
              "      <td>158.000000</td>\n",
              "      <td>158.000000</td>\n",
              "    </tr>\n",
              "    <tr>\n",
              "      <th>mean</th>\n",
              "      <td>15.689873</td>\n",
              "      <td>71.284671</td>\n",
              "      <td>18.457405</td>\n",
              "      <td>8.130633</td>\n",
              "      <td>8.830000</td>\n",
              "      <td>39.900949</td>\n",
              "      <td>7.794177</td>\n",
              "    </tr>\n",
              "    <tr>\n",
              "      <th>std</th>\n",
              "      <td>7.615691</td>\n",
              "      <td>37.229540</td>\n",
              "      <td>9.677095</td>\n",
              "      <td>1.793474</td>\n",
              "      <td>4.471417</td>\n",
              "      <td>8.639217</td>\n",
              "      <td>3.503487</td>\n",
              "    </tr>\n",
              "    <tr>\n",
              "      <th>min</th>\n",
              "      <td>4.000000</td>\n",
              "      <td>2.329000</td>\n",
              "      <td>0.660000</td>\n",
              "      <td>2.790000</td>\n",
              "      <td>0.330000</td>\n",
              "      <td>17.700000</td>\n",
              "      <td>0.590000</td>\n",
              "    </tr>\n",
              "    <tr>\n",
              "      <th>25%</th>\n",
              "      <td>10.000000</td>\n",
              "      <td>46.013000</td>\n",
              "      <td>12.535000</td>\n",
              "      <td>7.100000</td>\n",
              "      <td>6.132500</td>\n",
              "      <td>34.570000</td>\n",
              "      <td>5.480000</td>\n",
              "    </tr>\n",
              "    <tr>\n",
              "      <th>50%</th>\n",
              "      <td>14.000000</td>\n",
              "      <td>71.899000</td>\n",
              "      <td>19.500000</td>\n",
              "      <td>8.555000</td>\n",
              "      <td>9.570000</td>\n",
              "      <td>39.085000</td>\n",
              "      <td>8.150000</td>\n",
              "    </tr>\n",
              "    <tr>\n",
              "      <th>75%</th>\n",
              "      <td>20.000000</td>\n",
              "      <td>90.772500</td>\n",
              "      <td>24.845000</td>\n",
              "      <td>9.510000</td>\n",
              "      <td>10.885000</td>\n",
              "      <td>44.185000</td>\n",
              "      <td>9.990000</td>\n",
              "    </tr>\n",
              "    <tr>\n",
              "      <th>max</th>\n",
              "      <td>48.000000</td>\n",
              "      <td>220.000000</td>\n",
              "      <td>54.000000</td>\n",
              "      <td>11.820000</td>\n",
              "      <td>27.000000</td>\n",
              "      <td>71.430000</td>\n",
              "      <td>21.000000</td>\n",
              "    </tr>\n",
              "  </tbody>\n",
              "</table>\n",
              "</div>"
            ],
            "text/plain": [
              "             経過年数         トン数         乗客数          長さ          船室        乗客密度  \\\n",
              "count  158.000000  158.000000  158.000000  158.000000  158.000000  158.000000   \n",
              "mean    15.689873   71.284671   18.457405    8.130633    8.830000   39.900949   \n",
              "std      7.615691   37.229540    9.677095    1.793474    4.471417    8.639217   \n",
              "min      4.000000    2.329000    0.660000    2.790000    0.330000   17.700000   \n",
              "25%     10.000000   46.013000   12.535000    7.100000    6.132500   34.570000   \n",
              "50%     14.000000   71.899000   19.500000    8.555000    9.570000   39.085000   \n",
              "75%     20.000000   90.772500   24.845000    9.510000   10.885000   44.185000   \n",
              "max     48.000000  220.000000   54.000000   11.820000   27.000000   71.430000   \n",
              "\n",
              "              乗組員  \n",
              "count  158.000000  \n",
              "mean     7.794177  \n",
              "std      3.503487  \n",
              "min      0.590000  \n",
              "25%      5.480000  \n",
              "50%      8.150000  \n",
              "75%      9.990000  \n",
              "max     21.000000  "
            ]
          },
          "execution_count": 51,
          "metadata": {},
          "output_type": "execute_result"
        }
      ],
      "source": [
        "data.describe()"
      ]
    },
    {
      "cell_type": "code",
      "execution_count": null,
      "id": "7c75a323",
      "metadata": {
        "id": "7c75a323",
        "outputId": "81d0cb15-86dc-4977-c5fe-7a018d3c5246"
      },
      "outputs": [
        {
          "data": {
            "text/plain": [
              "Spirit          4\n",
              "Legend          3\n",
              "Star            3\n",
              "Rhapsody        2\n",
              "Mariner         2\n",
              "               ..\n",
              "Serena          1\n",
              "Romantica       1\n",
              "Mediterranea    1\n",
              "Marina          1\n",
              "Surf            1\n",
              "Name: 船名, Length: 138, dtype: int64"
            ]
          },
          "execution_count": 52,
          "metadata": {},
          "output_type": "execute_result"
        }
      ],
      "source": [
        "data['船名'].value_counts()"
      ]
    },
    {
      "cell_type": "code",
      "execution_count": null,
      "id": "b064a779",
      "metadata": {
        "id": "b064a779",
        "outputId": "c6ff5a1b-7fa2-4a25-dfa6-e3f33ec8f2a1"
      },
      "outputs": [
        {
          "data": {
            "text/plain": [
              "Royal_Caribbean      23\n",
              "Carnival             22\n",
              "Princess             17\n",
              "Holland_American     14\n",
              "Norwegian            13\n",
              "Costa                11\n",
              "Celebrity            10\n",
              "MSC                   8\n",
              "Star                  6\n",
              "P&O                   6\n",
              "Regent_Seven_Seas     5\n",
              "Silversea             4\n",
              "Oceania               3\n",
              "Seabourn              3\n",
              "Windstar              3\n",
              "Cunard                3\n",
              "Disney                2\n",
              "Crystal               2\n",
              "Azamara               2\n",
              "Orient                1\n",
              "Name: グルーズ名, dtype: int64"
            ]
          },
          "execution_count": 53,
          "metadata": {},
          "output_type": "execute_result"
        }
      ],
      "source": [
        "data['グルーズ名'].value_counts()"
      ]
    },
    {
      "attachments": {},
      "cell_type": "markdown",
      "id": "4bc6a6f7",
      "metadata": {
        "id": "4bc6a6f7"
      },
      "source": [
        "## 👬🏽 Duplicates / 👽 NA's"
      ]
    },
    {
      "cell_type": "code",
      "execution_count": null,
      "id": "2e9bbf52",
      "metadata": {
        "id": "2e9bbf52",
        "outputId": "a26948cb-2f8e-4363-cf8c-ff66e4c366e8"
      },
      "outputs": [
        {
          "name": "stdout",
          "output_type": "stream",
          "text": [
            "number of duplicated rows = 0\n"
          ]
        }
      ],
      "source": [
        "print(f\"number of duplicated rows = {data.duplicated().sum()}\")"
      ]
    },
    {
      "cell_type": "code",
      "execution_count": null,
      "id": "485da82b",
      "metadata": {
        "id": "485da82b",
        "outputId": "ad00f196-2106-4f80-ab12-aa4eb42828cb"
      },
      "outputs": [
        {
          "data": {
            "text/plain": [
              "船名       0\n",
              "グルーズ名    0\n",
              "経過年数     0\n",
              "トン数      0\n",
              "乗客数      0\n",
              "長さ       0\n",
              "船室       0\n",
              "乗客密度     0\n",
              "乗組員      0\n",
              "dtype: int64"
            ]
          },
          "execution_count": 55,
          "metadata": {},
          "output_type": "execute_result"
        }
      ],
      "source": [
        "data.isna().sum()"
      ]
    },
    {
      "attachments": {},
      "cell_type": "markdown",
      "id": "8b79867c",
      "metadata": {
        "id": "8b79867c"
      },
      "source": [
        "## 📊Visualize Target Distribution, Outliers, Gaussianity"
      ]
    },
    {
      "cell_type": "code",
      "execution_count": null,
      "id": "f1d3f3a6",
      "metadata": {
        "id": "f1d3f3a6",
        "outputId": "d455f4b8-385f-4e0f-b5e0-06da433a6131",
        "scrolled": true
      },
      "outputs": [
        {
          "data": {
            "image/png": "[encoded data removed]",
            "text/plain": [
              "<Figure size 1500x500 with 3 Axes>"
            ]
          },
          "metadata": {},
          "output_type": "display_data"
        }
      ],
      "source": [
        "fig, ax = plt.subplots(1,3,figsize=(15,5))\n",
        "\n",
        "ax[0].set_title(f\"Distribution of the Crew\")\n",
        "sns.histplot(data = data, x = '乗組員', kde=True, ax = ax[0])\n",
        "\n",
        "ax[1].set_title(f\"Boxplot of the Crew\")\n",
        "sns.boxplot(data = data, x = '乗組員', ax=ax[1])\n",
        "\n",
        "ax[2].set_title(f\"Gaussianity of:the Crew\")\n",
        "qqplot(data['乗組員'],line='s',ax=ax[2]);"
      ]
    },
    {
      "cell_type": "code",
      "execution_count": null,
      "id": "49e2f43e",
      "metadata": {
        "id": "49e2f43e",
        "outputId": "ffb1196d-8633-43e2-cc5f-396f0a78de33"
      },
      "outputs": [
        {
          "data": {
            "image/png": "[encoded data removed]",
            "text/plain": [
              "<Figure size 1500x800 with 6 Axes>"
            ]
          },
          "metadata": {},
          "output_type": "display_data"
        }
      ],
      "source": [
        "columns = ['経過年数', 'トン数', '乗客数', '長さ', '船室', '乗客密度']\n",
        "target = '乗組員'\n",
        "\n",
        "fig, ax = plt.subplots(2,3,figsize=(15,8))\n",
        "\n",
        "for i, x in enumerate(columns):\n",
        "    row_index = i // 3  # Row index of the subplot\n",
        "    col_index = i % 3   # Column index of the subplot\n",
        "    ax[row_index, col_index].set_title(f\"{x} vs 乗組員\")\n",
        "    sns.regplot(data=data, x=x, y=target, ax=ax[row_index, col_index], \n",
        "               line_kws={'color': 'red'})\n",
        "\n",
        "plt.tight_layout()\n",
        "plt.show();"
      ]
    },
    {
      "cell_type": "code",
      "execution_count": null,
      "id": "77c0db04",
      "metadata": {
        "id": "77c0db04",
        "outputId": "11d24a60-83a7-46f3-b65b-14382779504b"
      },
      "outputs": [
        {
          "data": {
            "text/html": [
              "<div>\n",
              "<style scoped>\n",
              "    .dataframe tbody tr th:only-of-type {\n",
              "        vertical-align: middle;\n",
              "    }\n",
              "\n",
              "    .dataframe tbody tr th {\n",
              "        vertical-align: top;\n",
              "    }\n",
              "\n",
              "    .dataframe thead th {\n",
              "        text-align: right;\n",
              "    }\n",
              "</style>\n",
              "<table border=\"1\" class=\"dataframe\">\n",
              "  <thead>\n",
              "    <tr style=\"text-align: right;\">\n",
              "      <th></th>\n",
              "      <th>船名</th>\n",
              "      <th>グルーズ名</th>\n",
              "      <th>経過年数</th>\n",
              "      <th>トン数</th>\n",
              "      <th>乗客数</th>\n",
              "      <th>長さ</th>\n",
              "      <th>船室</th>\n",
              "      <th>乗客密度</th>\n",
              "      <th>乗組員</th>\n",
              "    </tr>\n",
              "  </thead>\n",
              "  <tbody>\n",
              "    <tr>\n",
              "      <th>134</th>\n",
              "      <td>Oasis</td>\n",
              "      <td>Royal_Caribbean</td>\n",
              "      <td>4</td>\n",
              "      <td>220.0</td>\n",
              "      <td>54.00</td>\n",
              "      <td>11.82</td>\n",
              "      <td>27.00</td>\n",
              "      <td>40.74</td>\n",
              "      <td>21.0</td>\n",
              "    </tr>\n",
              "    <tr>\n",
              "      <th>3</th>\n",
              "      <td>Conquest</td>\n",
              "      <td>Carnival</td>\n",
              "      <td>11</td>\n",
              "      <td>110.0</td>\n",
              "      <td>29.74</td>\n",
              "      <td>9.53</td>\n",
              "      <td>14.88</td>\n",
              "      <td>36.99</td>\n",
              "      <td>19.1</td>\n",
              "    </tr>\n",
              "    <tr>\n",
              "      <th>124</th>\n",
              "      <td>Freedom</td>\n",
              "      <td>Royal_Caribbean</td>\n",
              "      <td>7</td>\n",
              "      <td>158.0</td>\n",
              "      <td>43.70</td>\n",
              "      <td>11.12</td>\n",
              "      <td>18.00</td>\n",
              "      <td>36.16</td>\n",
              "      <td>13.6</td>\n",
              "    </tr>\n",
              "    <tr>\n",
              "      <th>129</th>\n",
              "      <td>Liberty</td>\n",
              "      <td>Royal_Caribbean</td>\n",
              "      <td>6</td>\n",
              "      <td>158.0</td>\n",
              "      <td>43.70</td>\n",
              "      <td>11.25</td>\n",
              "      <td>18.00</td>\n",
              "      <td>36.16</td>\n",
              "      <td>13.6</td>\n",
              "    </tr>\n",
              "    <tr>\n",
              "      <th>126</th>\n",
              "      <td>Independence</td>\n",
              "      <td>Royal_Caribbean</td>\n",
              "      <td>5</td>\n",
              "      <td>160.0</td>\n",
              "      <td>36.34</td>\n",
              "      <td>11.12</td>\n",
              "      <td>18.17</td>\n",
              "      <td>44.03</td>\n",
              "      <td>13.6</td>\n",
              "    </tr>\n",
              "  </tbody>\n",
              "</table>\n",
              "</div>"
            ],
            "text/plain": [
              "               船名            グルーズ名  経過年数    トン数    乗客数     長さ     船室   乗客密度  \\\n",
              "134         Oasis  Royal_Caribbean     4  220.0  54.00  11.82  27.00  40.74   \n",
              "3        Conquest         Carnival    11  110.0  29.74   9.53  14.88  36.99   \n",
              "124       Freedom  Royal_Caribbean     7  158.0  43.70  11.12  18.00  36.16   \n",
              "129       Liberty  Royal_Caribbean     6  158.0  43.70  11.25  18.00  36.16   \n",
              "126  Independence  Royal_Caribbean     5  160.0  36.34  11.12  18.17  44.03   \n",
              "\n",
              "      乗組員  \n",
              "134  21.0  \n",
              "3    19.1  \n",
              "124  13.6  \n",
              "129  13.6  \n",
              "126  13.6  "
            ]
          },
          "execution_count": 58,
          "metadata": {},
          "output_type": "execute_result"
        }
      ],
      "source": [
        "#check outliers\n",
        "data.sort_values(by='乗組員', ascending=False).head()"
      ]
    },
    {
      "attachments": {},
      "cell_type": "markdown",
      "id": "333033c4",
      "metadata": {
        "id": "333033c4"
      },
      "source": [
        "## 🌡️Calculate Pearson Correlation Coefficient"
      ]
    },
    {
      "cell_type": "code",
      "execution_count": null,
      "id": "39f451d7",
      "metadata": {
        "id": "39f451d7",
        "outputId": "e5db7a76-6e51-458c-c2aa-183833db8c6d"
      },
      "outputs": [
        {
          "data": {
            "image/png": "[encoded data removed]",
            "text/plain": [
              "<Figure size 640x480 with 2 Axes>"
            ]
          },
          "metadata": {},
          "output_type": "display_data"
        }
      ],
      "source": [
        "sns.heatmap(data.corr(), cmap=\"coolwarm\", annot=True)\n",
        "plt.show();"
      ]
    },
    {
      "attachments": {},
      "cell_type": "markdown",
      "id": "bd07ea39",
      "metadata": {
        "id": "bd07ea39"
      },
      "source": [
        "## 💭 Initial Analysis"
      ]
    },
    {
      "attachments": {},
      "cell_type": "markdown",
      "id": "d5ea9c1e",
      "metadata": {
        "id": "d5ea9c1e"
      },
      "source": [
        "- data units may be in 100's or 1000's, which explains why the tons, length of ship, # of rooms, # of crew are such low numbers\n",
        "- data is already clean, as there are no missing values or duplicates 😌\n",
        "- looking at histogram, # of crew is normal (Gaussian) and there are only 2 outliers of larger cruiseships, so more crew, etc."
      ]
    },
    {
      "attachments": {},
      "cell_type": "markdown",
      "id": "e99e4ac4",
      "metadata": {
        "id": "e99e4ac4"
      },
      "source": [
        "# 🧪 Model"
      ]
    },
    {
      "attachments": {},
      "cell_type": "markdown",
      "id": "18d77965",
      "metadata": {
        "id": "18d77965"
      },
      "source": [
        "- i will drop 船名, グルーズ名 from the X features. Because this is categorical data, it is possible to use OHE to encode, but it will result in too many columns. I think the model should be able to predict well without them.\n",
        "- there are only 2 outliers, so i will first make a model including them"
      ]
    },
    {
      "attachments": {},
      "cell_type": "markdown",
      "id": "3b3f3831",
      "metadata": {
        "id": "3b3f3831"
      },
      "source": [
        "## 🧬Set X Features and Y Target"
      ]
    },
    {
      "cell_type": "code",
      "execution_count": null,
      "id": "57b1a3cd",
      "metadata": {
        "id": "57b1a3cd",
        "outputId": "32af52bb-1207-40c2-abea-bc78445ef97e"
      },
      "outputs": [
        {
          "data": {
            "text/plain": [
              "経過年数      int64\n",
              "トン数     float64\n",
              "乗客数     float64\n",
              "長さ      float64\n",
              "船室      float64\n",
              "乗客密度    float64\n",
              "dtype: object"
            ]
          },
          "execution_count": 60,
          "metadata": {},
          "output_type": "execute_result"
        }
      ],
      "source": [
        "X = data.drop(columns=['乗組員'])\n",
        "X = X.select_dtypes(exclude = ['object'])\n",
        "X.dtypes"
      ]
    },
    {
      "cell_type": "code",
      "execution_count": null,
      "id": "15818068",
      "metadata": {
        "id": "15818068"
      },
      "outputs": [],
      "source": [
        "y = data['乗組員']"
      ]
    },
    {
      "cell_type": "code",
      "execution_count": null,
      "id": "65b9c52b",
      "metadata": {
        "id": "65b9c52b",
        "outputId": "fdd86769-2b0f-47ae-cc84-9faf55e14d8d"
      },
      "outputs": [
        {
          "data": {
            "text/plain": [
              "((110, 6), (48, 6), (110,), (48,))"
            ]
          },
          "execution_count": 62,
          "metadata": {},
          "output_type": "execute_result"
        }
      ],
      "source": [
        "X_train, X_test, y_train, y_test = train_test_split(X, y, test_size = .3, random_state = 22)\n",
        "# X_train, X_val, y_train, y_val = train_test_split(X_train, y_train, test_size = .2, random_state = 22)\n",
        "X_train.shape, X_test.shape, y_train.shape, y_test.shape"
      ]
    },
    {
      "attachments": {},
      "cell_type": "markdown",
      "id": "b33df26e",
      "metadata": {
        "id": "b33df26e"
      },
      "source": [
        "## 🔢 Scaling numerical features"
      ]
    },
    {
      "cell_type": "code",
      "execution_count": null,
      "id": "de7b2585",
      "metadata": {
        "id": "de7b2585"
      },
      "outputs": [],
      "source": [
        "rob = RobustScaler()\n",
        "rob.fit(X_train)\n",
        "X_train_scaled = pd.DataFrame(rob.transform(X_train),\n",
        "                              columns=rob.get_feature_names_out()\n",
        "                             )\n",
        "X_test_scaled = pd.DataFrame(rob.transform(X_test),\n",
        "                              columns=rob.get_feature_names_out()\n",
        "                             )\n",
        "# X_val_scaled = pd.DataFrame(rob.transform(X_val),\n",
        "#                               columns=rob.get_feature_names_out()\n",
        "#                              )"
      ]
    },
    {
      "cell_type": "code",
      "execution_count": null,
      "id": "6f07667c",
      "metadata": {
        "id": "6f07667c",
        "outputId": "92f09980-8cf0-4540-c912-23e187738609"
      },
      "outputs": [
        {
          "data": {
            "text/html": [
              "<div>\n",
              "<style scoped>\n",
              "    .dataframe tbody tr th:only-of-type {\n",
              "        vertical-align: middle;\n",
              "    }\n",
              "\n",
              "    .dataframe tbody tr th {\n",
              "        vertical-align: top;\n",
              "    }\n",
              "\n",
              "    .dataframe thead th {\n",
              "        text-align: right;\n",
              "    }\n",
              "</style>\n",
              "<table border=\"1\" class=\"dataframe\">\n",
              "  <thead>\n",
              "    <tr style=\"text-align: right;\">\n",
              "      <th></th>\n",
              "      <th>経過年数</th>\n",
              "      <th>トン数</th>\n",
              "      <th>乗客数</th>\n",
              "      <th>長さ</th>\n",
              "      <th>船室</th>\n",
              "      <th>乗客密度</th>\n",
              "    </tr>\n",
              "  </thead>\n",
              "  <tbody>\n",
              "    <tr>\n",
              "      <th>count</th>\n",
              "      <td>110.000000</td>\n",
              "      <td>110.000000</td>\n",
              "      <td>110.000000</td>\n",
              "      <td>110.000000</td>\n",
              "      <td>1.100000e+02</td>\n",
              "      <td>1.100000e+02</td>\n",
              "    </tr>\n",
              "    <tr>\n",
              "      <th>mean</th>\n",
              "      <td>0.212727</td>\n",
              "      <td>-0.049499</td>\n",
              "      <td>-0.097722</td>\n",
              "      <td>-0.196916</td>\n",
              "      <td>-1.617021e-01</td>\n",
              "      <td>8.178810e-02</td>\n",
              "    </tr>\n",
              "    <tr>\n",
              "      <th>std</th>\n",
              "      <td>0.803902</td>\n",
              "      <td>0.668111</td>\n",
              "      <td>0.713593</td>\n",
              "      <td>0.627692</td>\n",
              "      <td>7.770294e-01</td>\n",
              "      <td>9.195086e-01</td>\n",
              "    </tr>\n",
              "    <tr>\n",
              "      <th>min</th>\n",
              "      <td>-0.900000</td>\n",
              "      <td>-1.321466</td>\n",
              "      <td>-1.404148</td>\n",
              "      <td>-1.996429</td>\n",
              "      <td>-1.650324e+00</td>\n",
              "      <td>-2.142530e+00</td>\n",
              "    </tr>\n",
              "    <tr>\n",
              "      <th>25%</th>\n",
              "      <td>-0.300000</td>\n",
              "      <td>-0.618679</td>\n",
              "      <td>-0.626090</td>\n",
              "      <td>-0.657143</td>\n",
              "      <td>-7.548566e-01</td>\n",
              "      <td>-4.535505e-01</td>\n",
              "    </tr>\n",
              "    <tr>\n",
              "      <th>50%</th>\n",
              "      <td>0.000000</td>\n",
              "      <td>0.000000</td>\n",
              "      <td>0.000000</td>\n",
              "      <td>0.000000</td>\n",
              "      <td>-1.643650e-16</td>\n",
              "      <td>-3.625572e-16</td>\n",
              "    </tr>\n",
              "    <tr>\n",
              "      <th>75%</th>\n",
              "      <td>0.700000</td>\n",
              "      <td>0.381321</td>\n",
              "      <td>0.373910</td>\n",
              "      <td>0.342857</td>\n",
              "      <td>2.451434e-01</td>\n",
              "      <td>5.464495e-01</td>\n",
              "    </tr>\n",
              "    <tr>\n",
              "      <th>max</th>\n",
              "      <td>3.400000</td>\n",
              "      <td>1.740895</td>\n",
              "      <td>1.911223</td>\n",
              "      <td>0.989286</td>\n",
              "      <td>1.628122e+00</td>\n",
              "      <td>2.912191e+00</td>\n",
              "    </tr>\n",
              "  </tbody>\n",
              "</table>\n",
              "</div>"
            ],
            "text/plain": [
              "             経過年数         トン数         乗客数          長さ            船室  \\\n",
              "count  110.000000  110.000000  110.000000  110.000000  1.100000e+02   \n",
              "mean     0.212727   -0.049499   -0.097722   -0.196916 -1.617021e-01   \n",
              "std      0.803902    0.668111    0.713593    0.627692  7.770294e-01   \n",
              "min     -0.900000   -1.321466   -1.404148   -1.996429 -1.650324e+00   \n",
              "25%     -0.300000   -0.618679   -0.626090   -0.657143 -7.548566e-01   \n",
              "50%      0.000000    0.000000    0.000000    0.000000 -1.643650e-16   \n",
              "75%      0.700000    0.381321    0.373910    0.342857  2.451434e-01   \n",
              "max      3.400000    1.740895    1.911223    0.989286  1.628122e+00   \n",
              "\n",
              "               乗客密度  \n",
              "count  1.100000e+02  \n",
              "mean   8.178810e-02  \n",
              "std    9.195086e-01  \n",
              "min   -2.142530e+00  \n",
              "25%   -4.535505e-01  \n",
              "50%   -3.625572e-16  \n",
              "75%    5.464495e-01  \n",
              "max    2.912191e+00  "
            ]
          },
          "execution_count": 64,
          "metadata": {},
          "output_type": "execute_result"
        }
      ],
      "source": [
        "X_train_scaled.describe()"
      ]
    },
    {
      "cell_type": "code",
      "execution_count": null,
      "id": "60cc1a07",
      "metadata": {
        "id": "60cc1a07",
        "outputId": "c8d9b471-0bac-4776-a37e-ed643f0415fd"
      },
      "outputs": [
        {
          "data": {
            "text/html": [
              "<div>\n",
              "<style scoped>\n",
              "    .dataframe tbody tr th:only-of-type {\n",
              "        vertical-align: middle;\n",
              "    }\n",
              "\n",
              "    .dataframe tbody tr th {\n",
              "        vertical-align: top;\n",
              "    }\n",
              "\n",
              "    .dataframe thead th {\n",
              "        text-align: right;\n",
              "    }\n",
              "</style>\n",
              "<table border=\"1\" class=\"dataframe\">\n",
              "  <thead>\n",
              "    <tr style=\"text-align: right;\">\n",
              "      <th></th>\n",
              "      <th>経過年数</th>\n",
              "      <th>トン数</th>\n",
              "      <th>乗客数</th>\n",
              "      <th>長さ</th>\n",
              "      <th>船室</th>\n",
              "      <th>乗客密度</th>\n",
              "    </tr>\n",
              "  </thead>\n",
              "  <tbody>\n",
              "    <tr>\n",
              "      <th>0</th>\n",
              "      <td>-0.4</td>\n",
              "      <td>0.383069</td>\n",
              "      <td>0.462105</td>\n",
              "      <td>0.382143</td>\n",
              "      <td>0.209066</td>\n",
              "      <td>-0.277424</td>\n",
              "    </tr>\n",
              "    <tr>\n",
              "      <th>1</th>\n",
              "      <td>0.7</td>\n",
              "      <td>-0.995868</td>\n",
              "      <td>-0.856755</td>\n",
              "      <td>-1.135714</td>\n",
              "      <td>-0.993525</td>\n",
              "      <td>-1.514380</td>\n",
              "    </tr>\n",
              "    <tr>\n",
              "      <th>2</th>\n",
              "      <td>-0.5</td>\n",
              "      <td>0.886306</td>\n",
              "      <td>0.538864</td>\n",
              "      <td>0.342857</td>\n",
              "      <td>0.671600</td>\n",
              "      <td>0.598117</td>\n",
              "    </tr>\n",
              "    <tr>\n",
              "      <th>3</th>\n",
              "      <td>2.2</td>\n",
              "      <td>-1.039394</td>\n",
              "      <td>-0.738903</td>\n",
              "      <td>-1.121429</td>\n",
              "      <td>-1.024977</td>\n",
              "      <td>-2.142530</td>\n",
              "    </tr>\n",
              "    <tr>\n",
              "      <th>4</th>\n",
              "      <td>-0.3</td>\n",
              "      <td>0.412922</td>\n",
              "      <td>0.053499</td>\n",
              "      <td>0.389286</td>\n",
              "      <td>0.092507</td>\n",
              "      <td>0.781369</td>\n",
              "    </tr>\n",
              "  </tbody>\n",
              "</table>\n",
              "</div>"
            ],
            "text/plain": [
              "   経過年数       トン数       乗客数        長さ        船室      乗客密度\n",
              "0  -0.4  0.383069  0.462105  0.382143  0.209066 -0.277424\n",
              "1   0.7 -0.995868 -0.856755 -1.135714 -0.993525 -1.514380\n",
              "2  -0.5  0.886306  0.538864  0.342857  0.671600  0.598117\n",
              "3   2.2 -1.039394 -0.738903 -1.121429 -1.024977 -2.142530\n",
              "4  -0.3  0.412922  0.053499  0.389286  0.092507  0.781369"
            ]
          },
          "execution_count": 65,
          "metadata": {},
          "output_type": "execute_result"
        }
      ],
      "source": [
        "X_train_scaled.head()"
      ]
    },
    {
      "attachments": {},
      "cell_type": "markdown",
      "id": "46c159c5",
      "metadata": {
        "id": "46c159c5"
      },
      "source": [
        "## 🐣 Baseline Model - Average # Crew"
      ]
    },
    {
      "cell_type": "code",
      "execution_count": null,
      "id": "c1773469",
      "metadata": {
        "id": "c1773469",
        "outputId": "0b42c02b-beee-4060-ff3c-b1e8e32aa487"
      },
      "outputs": [
        {
          "data": {
            "text/plain": [
              "7.60190909090909"
            ]
          },
          "execution_count": 66,
          "metadata": {},
          "output_type": "execute_result"
        }
      ],
      "source": [
        "avg_crew = y_train.mean()\n",
        "avg_crew"
      ]
    },
    {
      "cell_type": "code",
      "execution_count": null,
      "id": "503c5e53",
      "metadata": {
        "id": "503c5e53",
        "outputId": "f62cf4d6-f6d6-45d8-9a84-4591336daa31"
      },
      "outputs": [
        {
          "data": {
            "text/plain": [
              "48"
            ]
          },
          "execution_count": 67,
          "metadata": {},
          "output_type": "execute_result"
        }
      ],
      "source": [
        "len(y_test)"
      ]
    },
    {
      "cell_type": "code",
      "execution_count": null,
      "id": "e20e36a7",
      "metadata": {
        "id": "e20e36a7",
        "outputId": "263dfef0-617f-49dc-ab5a-dd0bbda49978"
      },
      "outputs": [
        {
          "data": {
            "text/plain": [
              "115     4.45\n",
              "77     11.09\n",
              "35      9.20\n",
              "46      5.45\n",
              "112     9.00\n",
              "Name: 乗組員, dtype: float64"
            ]
          },
          "execution_count": 68,
          "metadata": {},
          "output_type": "execute_result"
        }
      ],
      "source": [
        "y_test.head()"
      ]
    },
    {
      "cell_type": "code",
      "execution_count": null,
      "id": "c23ec247",
      "metadata": {
        "id": "c23ec247",
        "outputId": "87200484-fd9f-43c3-f056-53a9eba7e7e6"
      },
      "outputs": [
        {
          "data": {
            "text/plain": [
              "0    7.601909\n",
              "1    7.601909\n",
              "2    7.601909\n",
              "3    7.601909\n",
              "4    7.601909\n",
              "dtype: float64"
            ]
          },
          "execution_count": 69,
          "metadata": {},
          "output_type": "execute_result"
        }
      ],
      "source": [
        "y_pred_baseline = pd.Series([avg_crew]*len(y_test))\n",
        "y_pred_baseline.head()"
      ]
    },
    {
      "cell_type": "code",
      "execution_count": null,
      "id": "e6ddca04",
      "metadata": {
        "id": "e6ddca04",
        "outputId": "78379773-3575-48c9-a6e7-61ced43096bb"
      },
      "outputs": [
        {
          "name": "stdout",
          "output_type": "stream",
          "text": [
            "Root Mean Squared Error: 3.769895928443485\n"
          ]
        }
      ],
      "source": [
        "mse = np.sqrt(mean_squared_error(y_test, y_pred_baseline))\n",
        "print(\"Root Mean Squared Error:\", mse)"
      ]
    },
    {
      "cell_type": "code",
      "execution_count": null,
      "id": "089f1de3",
      "metadata": {
        "id": "089f1de3",
        "outputId": "9ef4b700-f68c-4276-becc-d3e68337a348"
      },
      "outputs": [
        {
          "name": "stdout",
          "output_type": "stream",
          "text": [
            "Mean Absolute Error: 2.937886363636364\n"
          ]
        }
      ],
      "source": [
        "mae = mean_absolute_error(y_test, y_pred_baseline)\n",
        "print(\"Mean Absolute Error:\", mae)"
      ]
    },
    {
      "cell_type": "code",
      "execution_count": null,
      "id": "bf3670ec",
      "metadata": {
        "id": "bf3670ec",
        "outputId": "c52f1d63-2350-4516-a603-7d70862fe8f7"
      },
      "outputs": [
        {
          "name": "stdout",
          "output_type": "stream",
          "text": [
            "R-squared: -0.02900033891545606\n"
          ]
        }
      ],
      "source": [
        "r2 = r2_score(y_test, y_pred_baseline)\n",
        "print(\"R-squared:\", r2)"
      ]
    },
    {
      "attachments": {},
      "cell_type": "markdown",
      "id": "add53e07",
      "metadata": {
        "id": "add53e07"
      },
      "source": [
        "## 🚀Test Different Models"
      ]
    },
    {
      "cell_type": "code",
      "execution_count": null,
      "id": "4a3055be",
      "metadata": {
        "id": "4a3055be",
        "outputId": "26119d31-b6a0-4616-877f-c4b6a6672a26"
      },
      "outputs": [
        {
          "data": {
            "text/html": [
              "<style>#sk-container-id-2 {color: black;background-color: white;}#sk-container-id-2 pre{padding: 0;}#sk-container-id-2 div.sk-toggleable {background-color: white;}#sk-container-id-2 label.sk-toggleable__label {cursor: pointer;display: block;width: 100%;margin-bottom: 0;padding: 0.3em;box-sizing: border-box;text-align: center;}#sk-container-id-2 label.sk-toggleable__label-arrow:before {content: \"▸\";float: left;margin-right: 0.25em;color: #696969;}#sk-container-id-2 label.sk-toggleable__label-arrow:hover:before {color: black;}#sk-container-id-2 div.sk-estimator:hover label.sk-toggleable__label-arrow:before {color: black;}#sk-container-id-2 div.sk-toggleable__content {max-height: 0;max-width: 0;overflow: hidden;text-align: left;background-color: #f0f8ff;}#sk-container-id-2 div.sk-toggleable__content pre {margin: 0.2em;color: black;border-radius: 0.25em;background-color: #f0f8ff;}#sk-container-id-2 input.sk-toggleable__control:checked~div.sk-toggleable__content {max-height: 200px;max-width: 100%;overflow: auto;}#sk-container-id-2 input.sk-toggleable__control:checked~label.sk-toggleable__label-arrow:before {content: \"▾\";}#sk-container-id-2 div.sk-estimator input.sk-toggleable__control:checked~label.sk-toggleable__label {background-color: #d4ebff;}#sk-container-id-2 div.sk-label input.sk-toggleable__control:checked~label.sk-toggleable__label {background-color: #d4ebff;}#sk-container-id-2 input.sk-hidden--visually {border: 0;clip: rect(1px 1px 1px 1px);clip: rect(1px, 1px, 1px, 1px);height: 1px;margin: -1px;overflow: hidden;padding: 0;position: absolute;width: 1px;}#sk-container-id-2 div.sk-estimator {font-family: monospace;background-color: #f0f8ff;border: 1px dotted black;border-radius: 0.25em;box-sizing: border-box;margin-bottom: 0.5em;}#sk-container-id-2 div.sk-estimator:hover {background-color: #d4ebff;}#sk-container-id-2 div.sk-parallel-item::after {content: \"\";width: 100%;border-bottom: 1px solid gray;flex-grow: 1;}#sk-container-id-2 div.sk-label:hover label.sk-toggleable__label {background-color: #d4ebff;}#sk-container-id-2 div.sk-serial::before {content: \"\";position: absolute;border-left: 1px solid gray;box-sizing: border-box;top: 0;bottom: 0;left: 50%;z-index: 0;}#sk-container-id-2 div.sk-serial {display: flex;flex-direction: column;align-items: center;background-color: white;padding-right: 0.2em;padding-left: 0.2em;position: relative;}#sk-container-id-2 div.sk-item {position: relative;z-index: 1;}#sk-container-id-2 div.sk-parallel {display: flex;align-items: stretch;justify-content: center;background-color: white;position: relative;}#sk-container-id-2 div.sk-item::before, #sk-container-id-2 div.sk-parallel-item::before {content: \"\";position: absolute;border-left: 1px solid gray;box-sizing: border-box;top: 0;bottom: 0;left: 50%;z-index: -1;}#sk-container-id-2 div.sk-parallel-item {display: flex;flex-direction: column;z-index: 1;position: relative;background-color: white;}#sk-container-id-2 div.sk-parallel-item:first-child::after {align-self: flex-end;width: 50%;}#sk-container-id-2 div.sk-parallel-item:last-child::after {align-self: flex-start;width: 50%;}#sk-container-id-2 div.sk-parallel-item:only-child::after {width: 0;}#sk-container-id-2 div.sk-dashed-wrapped {border: 1px dashed gray;margin: 0 0.4em 0.5em 0.4em;box-sizing: border-box;padding-bottom: 0.4em;background-color: white;}#sk-container-id-2 div.sk-label label {font-family: monospace;font-weight: bold;display: inline-block;line-height: 1.2em;}#sk-container-id-2 div.sk-label-container {text-align: center;}#sk-container-id-2 div.sk-container {/* jupyter's `normalize.less` sets `[hidden] { display: none; }` but bootstrap.min.css set `[hidden] { display: none !important; }` so we also need the `!important` here to be able to override the default hidden behavior on the sphinx rendered scikit-learn.org. See: https://github.com/scikit-learn/scikit-learn/issues/21755 */display: inline-block !important;position: relative;}#sk-container-id-2 div.sk-text-repr-fallback {display: none;}</style><div id=\"sk-container-id-2\" class=\"sk-top-container\"><div class=\"sk-text-repr-fallback\"><pre>LinearRegression()</pre><b>In a Jupyter environment, please rerun this cell to show the HTML representation or trust the notebook. <br />On GitHub, the HTML representation is unable to render, please try loading this page with nbviewer.org.</b></div><div class=\"sk-container\" hidden><div class=\"sk-item\"><div class=\"sk-estimator sk-toggleable\"><input class=\"sk-toggleable__control sk-hidden--visually\" id=\"sk-estimator-id-2\" type=\"checkbox\" checked><label for=\"sk-estimator-id-2\" class=\"sk-toggleable__label sk-toggleable__label-arrow\">LinearRegression</label><div class=\"sk-toggleable__content\"><pre>LinearRegression()</pre></div></div></div></div></div>"
            ],
            "text/plain": [
              "LinearRegression()"
            ]
          },
          "execution_count": 73,
          "metadata": {},
          "output_type": "execute_result"
        }
      ],
      "source": [
        "# Create a linear regression model\n",
        "model = LinearRegression()\n",
        "\n",
        "# Fit the model on the training set\n",
        "model.fit(X_train_scaled, y_train)\n",
        "\n",
        "# # Evaluate the model on the validation set\n",
        "# y_test_pred = model.predict(X_test_scaled)\n",
        "# test_r2 = r2_score(y_test, y_test_pred)\n",
        "# print(\"Validation R-squared:\", test_r2)"
      ]
    },
    {
      "cell_type": "code",
      "execution_count": null,
      "id": "599d528e",
      "metadata": {
        "id": "599d528e",
        "outputId": "1d367132-7f47-456f-aafe-e40500caf5b5"
      },
      "outputs": [
        {
          "name": "stdout",
          "output_type": "stream",
          "text": [
            "Mean cross-validation score: 0.9436755285510474\n"
          ]
        },
        {
          "name": "stderr",
          "output_type": "stream",
          "text": [
            "[Parallel(n_jobs=1)]: Using backend SequentialBackend with 1 concurrent workers.\n",
            "[Parallel(n_jobs=1)]: Done   5 out of   5 | elapsed:    0.0s finished\n"
          ]
        }
      ],
      "source": [
        "# Perform cross-validation\n",
        "cv_scores = cross_val_score(model, X_test_scaled, y_test, cv=5, verbose=True)\n",
        "cv_scores\n",
        "mean_cv_score = np.mean(cv_scores)\n",
        "print(\"Mean cross-validation score:\", mean_cv_score)"
      ]
    },
    {
      "cell_type": "code",
      "execution_count": null,
      "id": "cb13620a",
      "metadata": {
        "id": "cb13620a"
      },
      "outputs": [],
      "source": [
        "# list of models to try\n",
        "models = [LinearRegression(),\n",
        "          Ridge(),\n",
        "          Lasso(),\n",
        "          ElasticNet(),\n",
        "          SGDRegressor(),\n",
        "          KNeighborsRegressor(),\n",
        "          SVR(kernel = \"linear\"),\n",
        "          SVR(kernel = \"poly\", degree = 2),\n",
        "          SVR(kernel = \"poly\", degree = 3),          \n",
        "          SVR(kernel = \"rbf\"),\n",
        "          DecisionTreeRegressor(),\n",
        "          RandomForestRegressor(),\n",
        "          AdaBoostRegressor(),\n",
        "          GradientBoostingRegressor()]\n",
        "\n",
        "# list of model names\n",
        "models_names = [\"linear_regression\",\n",
        "                \"ridge\",\n",
        "                \"lasso\",\n",
        "                \"elastic_net\",\n",
        "                \"sgd_regressor\",\n",
        "                \"kneighbors_regressor\",\n",
        "                \"SVR_linear\",\n",
        "                \"SVR_poly_two\",\n",
        "                \"SVR_poly_three\",\n",
        "                \"SVR_rbf\",                \n",
        "                \"decision_tree_regressor\",\n",
        "                \"random_forest_regressor\",\n",
        "                \"ada_boost_regressor\",\n",
        "                \"gradient_boosting_regressor\"]"
      ]
    },
    {
      "cell_type": "code",
      "execution_count": null,
      "id": "367e42ee",
      "metadata": {
        "id": "367e42ee"
      },
      "outputs": [],
      "source": [
        "# %%time\n",
        "\n",
        "# different_test_scores = []\n",
        "\n",
        "# for model_name, model in zip(models_names, models):\n",
        "#     model.fit(X_train_scaled, y_train)\n",
        "#     val_score = model.score(X_val_scaled, y_val)\n",
        "#     y_test_pred = model.predict(X_test_scaled)\n",
        "#     test_score = r2_score(y_test, y_test_pred)\n",
        "#     different_test_scores.append((model_name, val_score, test_score))\n",
        "\n",
        "# comparing_regression_models = pd.DataFrame(different_test_scores, \n",
        "#                                            columns=['model_name', 'val_score', 'test_score'])\n",
        "# comparing_regression_models = comparing_regression_models.sort_values(by='test_score', ascending=False)\n",
        "\n",
        "# round(comparing_regression_models, 2)"
      ]
    },
    {
      "cell_type": "code",
      "execution_count": null,
      "id": "64efe3d6",
      "metadata": {
        "id": "64efe3d6",
        "outputId": "f8f805b1-faac-41e2-e751-1510833d5eab"
      },
      "outputs": [
        {
          "data": {
            "text/html": [
              "<div>\n",
              "<style scoped>\n",
              "    .dataframe tbody tr th:only-of-type {\n",
              "        vertical-align: middle;\n",
              "    }\n",
              "\n",
              "    .dataframe tbody tr th {\n",
              "        vertical-align: top;\n",
              "    }\n",
              "\n",
              "    .dataframe thead th {\n",
              "        text-align: right;\n",
              "    }\n",
              "</style>\n",
              "<table border=\"1\" class=\"dataframe\">\n",
              "  <thead>\n",
              "    <tr style=\"text-align: right;\">\n",
              "      <th></th>\n",
              "      <th>model_name</th>\n",
              "      <th>test_score</th>\n",
              "    </tr>\n",
              "  </thead>\n",
              "  <tbody>\n",
              "    <tr>\n",
              "      <th>0</th>\n",
              "      <td>linear_regression</td>\n",
              "      <td>0.94</td>\n",
              "    </tr>\n",
              "    <tr>\n",
              "      <th>1</th>\n",
              "      <td>ridge</td>\n",
              "      <td>0.92</td>\n",
              "    </tr>\n",
              "    <tr>\n",
              "      <th>6</th>\n",
              "      <td>SVR_linear</td>\n",
              "      <td>0.92</td>\n",
              "    </tr>\n",
              "    <tr>\n",
              "      <th>4</th>\n",
              "      <td>sgd_regressor</td>\n",
              "      <td>0.88</td>\n",
              "    </tr>\n",
              "    <tr>\n",
              "      <th>13</th>\n",
              "      <td>gradient_boosting_regressor</td>\n",
              "      <td>0.81</td>\n",
              "    </tr>\n",
              "    <tr>\n",
              "      <th>5</th>\n",
              "      <td>kneighbors_regressor</td>\n",
              "      <td>0.80</td>\n",
              "    </tr>\n",
              "    <tr>\n",
              "      <th>11</th>\n",
              "      <td>random_forest_regressor</td>\n",
              "      <td>0.80</td>\n",
              "    </tr>\n",
              "    <tr>\n",
              "      <th>2</th>\n",
              "      <td>lasso</td>\n",
              "      <td>0.78</td>\n",
              "    </tr>\n",
              "    <tr>\n",
              "      <th>3</th>\n",
              "      <td>elastic_net</td>\n",
              "      <td>0.76</td>\n",
              "    </tr>\n",
              "    <tr>\n",
              "      <th>12</th>\n",
              "      <td>ada_boost_regressor</td>\n",
              "      <td>0.76</td>\n",
              "    </tr>\n",
              "    <tr>\n",
              "      <th>10</th>\n",
              "      <td>decision_tree_regressor</td>\n",
              "      <td>0.70</td>\n",
              "    </tr>\n",
              "    <tr>\n",
              "      <th>9</th>\n",
              "      <td>SVR_rbf</td>\n",
              "      <td>0.56</td>\n",
              "    </tr>\n",
              "    <tr>\n",
              "      <th>7</th>\n",
              "      <td>SVR_poly_two</td>\n",
              "      <td>0.24</td>\n",
              "    </tr>\n",
              "    <tr>\n",
              "      <th>8</th>\n",
              "      <td>SVR_poly_three</td>\n",
              "      <td>-1.33</td>\n",
              "    </tr>\n",
              "  </tbody>\n",
              "</table>\n",
              "</div>"
            ],
            "text/plain": [
              "                     model_name  test_score\n",
              "0             linear_regression        0.94\n",
              "1                         ridge        0.92\n",
              "6                    SVR_linear        0.92\n",
              "4                 sgd_regressor        0.88\n",
              "13  gradient_boosting_regressor        0.81\n",
              "5          kneighbors_regressor        0.80\n",
              "11      random_forest_regressor        0.80\n",
              "2                         lasso        0.78\n",
              "3                   elastic_net        0.76\n",
              "12          ada_boost_regressor        0.76\n",
              "10      decision_tree_regressor        0.70\n",
              "9                       SVR_rbf        0.56\n",
              "7                  SVR_poly_two        0.24\n",
              "8                SVR_poly_three       -1.33"
            ]
          },
          "execution_count": 77,
          "metadata": {},
          "output_type": "execute_result"
        }
      ],
      "source": [
        "different_test_scores = []\n",
        "\n",
        "for model_name, model in zip(models_names, models):\n",
        "\n",
        "    model.fit(X_train_scaled, y_train)\n",
        "    different_test_scores.append(np.mean(cross_val_score(model, X_test_scaled, y_test)))\n",
        "    \n",
        "\n",
        "comparing_regression_models = pd.DataFrame(list(zip(models_names, different_test_scores)),\n",
        "                                                columns =['model_name', 'test_score'])\n",
        "\n",
        "round(comparing_regression_models.sort_values(by = \"test_score\", ascending = False),2)"
      ]
    },
    {
      "attachments": {},
      "cell_type": "markdown",
      "id": "4a3990bd",
      "metadata": {
        "id": "4a3990bd"
      },
      "source": [
        "## 🤔 Initial Results\n",
        "\n",
        "- By scaling the data and running the model on numerical features, I was able to achieve quite a high R2 score, even with a simple linear regression model.データをスケーリングし、数値特徴量を用いてモデルを実行することで、単純な線形回帰モデルでもかなり高い精度を達成することができました。"
      ]
    },
    {
      "attachments": {},
      "cell_type": "markdown",
      "id": "59216fdd",
      "metadata": {
        "id": "59216fdd"
      },
      "source": [
        "# 🔧 Model Tuning\n",
        "\n",
        " 1. Check for multicolinearity between features and check feature permutation.特徴量間の多重共線性や特徴量の順列を確認してみる。\n",
        " \n",
        " 2. I will try to make a new model with updated features to see if it improves performance. 新しいモデルを作ってみて、乗組員との相関が少ないため、経年変化と乗組員密度を落として、パフォーマンスが向上するかどうか試してみることにする。\n",
        " \n",
        " 3. Try changing model hyperparameters to improve performance　モデルのハイパーパラメータを変更して性能が向上するか試してみる\n",
        " \n",
        " 4. Drop outliers　外れ値を削除してみる"
      ]
    },
    {
      "attachments": {},
      "cell_type": "markdown",
      "id": "b965c640",
      "metadata": {
        "id": "b965c640"
      },
      "source": [
        "## 🕸️ Check for Multicolinearity"
      ]
    },
    {
      "attachments": {},
      "cell_type": "markdown",
      "id": "00087ff8",
      "metadata": {
        "id": "00087ff8"
      },
      "source": [
        "### VIF "
      ]
    },
    {
      "cell_type": "code",
      "execution_count": null,
      "id": "6c49321e",
      "metadata": {
        "id": "6c49321e"
      },
      "outputs": [],
      "source": [
        "from statsmodels.stats.outliers_influence import variance_inflation_factor as vif"
      ]
    },
    {
      "cell_type": "code",
      "execution_count": null,
      "id": "fcdd76d2",
      "metadata": {
        "id": "fcdd76d2",
        "outputId": "0de61021-4f00-4614-a8a1-d25e1d467b70"
      },
      "outputs": [
        {
          "data": {
            "text/html": [
              "<div>\n",
              "<style scoped>\n",
              "    .dataframe tbody tr th:only-of-type {\n",
              "        vertical-align: middle;\n",
              "    }\n",
              "\n",
              "    .dataframe tbody tr th {\n",
              "        vertical-align: top;\n",
              "    }\n",
              "\n",
              "    .dataframe thead th {\n",
              "        text-align: right;\n",
              "    }\n",
              "</style>\n",
              "<table border=\"1\" class=\"dataframe\">\n",
              "  <thead>\n",
              "    <tr style=\"text-align: right;\">\n",
              "      <th></th>\n",
              "      <th>features</th>\n",
              "      <th>vif_index</th>\n",
              "    </tr>\n",
              "  </thead>\n",
              "  <tbody>\n",
              "    <tr>\n",
              "      <th>4</th>\n",
              "      <td>船室</td>\n",
              "      <td>35.34</td>\n",
              "    </tr>\n",
              "    <tr>\n",
              "      <th>2</th>\n",
              "      <td>乗客数</td>\n",
              "      <td>31.85</td>\n",
              "    </tr>\n",
              "    <tr>\n",
              "      <th>1</th>\n",
              "      <td>トン数</td>\n",
              "      <td>23.10</td>\n",
              "    </tr>\n",
              "    <tr>\n",
              "      <th>3</th>\n",
              "      <td>長さ</td>\n",
              "      <td>7.56</td>\n",
              "    </tr>\n",
              "    <tr>\n",
              "      <th>5</th>\n",
              "      <td>乗客密度</td>\n",
              "      <td>3.29</td>\n",
              "    </tr>\n",
              "    <tr>\n",
              "      <th>0</th>\n",
              "      <td>経過年数</td>\n",
              "      <td>1.82</td>\n",
              "    </tr>\n",
              "  </tbody>\n",
              "</table>\n",
              "</div>"
            ],
            "text/plain": [
              "  features  vif_index\n",
              "4       船室      35.34\n",
              "2      乗客数      31.85\n",
              "1      トン数      23.10\n",
              "3       長さ       7.56\n",
              "5     乗客密度       3.29\n",
              "0     経過年数       1.82"
            ]
          },
          "execution_count": 80,
          "metadata": {},
          "output_type": "execute_result"
        }
      ],
      "source": [
        "vif_df = pd.DataFrame()\n",
        "\n",
        "vif_df[\"features\"] = X_train_scaled.columns\n",
        "\n",
        "vif_df[\"vif_index\"] = [vif(X_train_scaled.values, i) for i in range(X_train_scaled.shape[1])]\n",
        "\n",
        "round(vif_df.sort_values(by=\"vif_index\", ascending = False),2)"
      ]
    },
    {
      "attachments": {},
      "cell_type": "markdown",
      "id": "3e84f895",
      "metadata": {
        "id": "3e84f895"
      },
      "source": [
        "### Feature Permutation"
      ]
    },
    {
      "cell_type": "code",
      "execution_count": null,
      "id": "d81e1361",
      "metadata": {
        "id": "d81e1361"
      },
      "outputs": [],
      "source": [
        "from sklearn.inspection import permutation_importance"
      ]
    },
    {
      "cell_type": "code",
      "execution_count": null,
      "id": "953c8caa",
      "metadata": {
        "id": "953c8caa",
        "outputId": "e315d209-5c38-466f-e6cb-80d0a8defb78"
      },
      "outputs": [
        {
          "data": {
            "text/html": [
              "<div>\n",
              "<style scoped>\n",
              "    .dataframe tbody tr th:only-of-type {\n",
              "        vertical-align: middle;\n",
              "    }\n",
              "\n",
              "    .dataframe tbody tr th {\n",
              "        vertical-align: top;\n",
              "    }\n",
              "\n",
              "    .dataframe thead th {\n",
              "        text-align: right;\n",
              "    }\n",
              "</style>\n",
              "<table border=\"1\" class=\"dataframe\">\n",
              "  <thead>\n",
              "    <tr style=\"text-align: right;\">\n",
              "      <th></th>\n",
              "      <th>feature</th>\n",
              "      <th>score decrease</th>\n",
              "    </tr>\n",
              "  </thead>\n",
              "  <tbody>\n",
              "    <tr>\n",
              "      <th>4</th>\n",
              "      <td>船室</td>\n",
              "      <td>3.842277</td>\n",
              "    </tr>\n",
              "    <tr>\n",
              "      <th>2</th>\n",
              "      <td>乗客数</td>\n",
              "      <td>1.428907</td>\n",
              "    </tr>\n",
              "    <tr>\n",
              "      <th>1</th>\n",
              "      <td>トン数</td>\n",
              "      <td>0.321769</td>\n",
              "    </tr>\n",
              "    <tr>\n",
              "      <th>3</th>\n",
              "      <td>長さ</td>\n",
              "      <td>0.210048</td>\n",
              "    </tr>\n",
              "    <tr>\n",
              "      <th>0</th>\n",
              "      <td>経過年数</td>\n",
              "      <td>0.002051</td>\n",
              "    </tr>\n",
              "    <tr>\n",
              "      <th>5</th>\n",
              "      <td>乗客密度</td>\n",
              "      <td>-0.000772</td>\n",
              "    </tr>\n",
              "  </tbody>\n",
              "</table>\n",
              "</div>"
            ],
            "text/plain": [
              "  feature score decrease\n",
              "4      船室       3.842277\n",
              "2     乗客数       1.428907\n",
              "1     トン数       0.321769\n",
              "3      長さ       0.210048\n",
              "0    経過年数       0.002051\n",
              "5    乗客密度      -0.000772"
            ]
          },
          "execution_count": 83,
          "metadata": {},
          "output_type": "execute_result"
        }
      ],
      "source": [
        "# Fit model\n",
        "model = LinearRegression().fit(X_train_scaled, y_train) \n",
        "\n",
        "# Performs Permutation\n",
        "permutation_score = permutation_importance(model, X_test_scaled, y_test, \n",
        "                                           scoring='neg_mean_absolute_error',\n",
        "                                          random_state=22) \n",
        "\n",
        "# Unstack results showing the decrease in performance after shuffling features\n",
        "importance_df = pd.DataFrame(np.vstack((X_test_scaled.columns,\n",
        "                                        permutation_score.importances_mean)).T) \n",
        "importance_df.columns=['feature','score decrease']\n",
        "\n",
        "# Show the important features\n",
        "importance_df.sort_values(by=\"score decrease\", ascending = False) "
      ]
    },
    {
      "attachments": {},
      "cell_type": "markdown",
      "id": "87bd8141",
      "metadata": {
        "id": "87bd8141"
      },
      "source": [
        "## 🧮 New Model without 経過年数 and 乗客密度"
      ]
    },
    {
      "cell_type": "code",
      "execution_count": null,
      "id": "4977be74",
      "metadata": {
        "id": "4977be74",
        "outputId": "3f1c54c9-44b4-4005-d032-ce9df923c809"
      },
      "outputs": [
        {
          "data": {
            "text/plain": [
              "Index(['船名', 'グルーズ名', '経過年数', 'トン数', '乗客数', '長さ', '船室', '乗客密度', '乗組員'], dtype='object')"
            ]
          },
          "execution_count": 36,
          "metadata": {},
          "output_type": "execute_result"
        }
      ],
      "source": [
        "data.columns"
      ]
    },
    {
      "cell_type": "code",
      "execution_count": null,
      "id": "d501814e",
      "metadata": {
        "id": "d501814e"
      },
      "outputs": [],
      "source": [
        "#create a function to process dataframe for modeling\n",
        "def preprocessor(dataframe):\n",
        "    X = dataframe[['トン数', '乗客数', '長さ', '船室']]\n",
        "    y = dataframe['乗組員']\n",
        "    X_train, X_test, y_train, y_test = train_test_split(X, y, test_size=.3, random_state=22)\n",
        "    rob = RobustScaler()\n",
        "    rob.fit(X_train)\n",
        "    X_train_scaled = pd.DataFrame(rob.transform(X_train),\n",
        "                                  columns=rob.get_feature_names_out())\n",
        "    X_test_scaled = pd.DataFrame(rob.transform(X_test),\n",
        "                                  columns=rob.get_feature_names_out())\n",
        "    return X_train_scaled, X_test_scaled, y_train, y_test"
      ]
    },
    {
      "cell_type": "code",
      "execution_count": null,
      "id": "5e0e5671",
      "metadata": {
        "id": "5e0e5671"
      },
      "outputs": [],
      "source": [
        "X_train_scaled, X_test_scaled, y_train, y_test = preprocessor(data)"
      ]
    },
    {
      "cell_type": "code",
      "execution_count": null,
      "id": "44a6ddbc",
      "metadata": {
        "id": "44a6ddbc",
        "outputId": "a41b8471-56d0-4ba6-9b15-b91340b2a664"
      },
      "outputs": [
        {
          "name": "stdout",
          "output_type": "stream",
          "text": [
            "CPU times: user 1.55 s, sys: 0 ns, total: 1.55 s\n",
            "Wall time: 1.68 s\n"
          ]
        },
        {
          "data": {
            "text/html": [
              "<div>\n",
              "<style scoped>\n",
              "    .dataframe tbody tr th:only-of-type {\n",
              "        vertical-align: middle;\n",
              "    }\n",
              "\n",
              "    .dataframe tbody tr th {\n",
              "        vertical-align: top;\n",
              "    }\n",
              "\n",
              "    .dataframe thead th {\n",
              "        text-align: right;\n",
              "    }\n",
              "</style>\n",
              "<table border=\"1\" class=\"dataframe\">\n",
              "  <thead>\n",
              "    <tr style=\"text-align: right;\">\n",
              "      <th></th>\n",
              "      <th>model_name</th>\n",
              "      <th>test_score</th>\n",
              "    </tr>\n",
              "  </thead>\n",
              "  <tbody>\n",
              "    <tr>\n",
              "      <th>0</th>\n",
              "      <td>linear_regression</td>\n",
              "      <td>0.95</td>\n",
              "    </tr>\n",
              "    <tr>\n",
              "      <th>6</th>\n",
              "      <td>SVR_linear</td>\n",
              "      <td>0.92</td>\n",
              "    </tr>\n",
              "    <tr>\n",
              "      <th>1</th>\n",
              "      <td>ridge</td>\n",
              "      <td>0.92</td>\n",
              "    </tr>\n",
              "    <tr>\n",
              "      <th>4</th>\n",
              "      <td>sgd_regressor</td>\n",
              "      <td>0.88</td>\n",
              "    </tr>\n",
              "    <tr>\n",
              "      <th>12</th>\n",
              "      <td>ada_boost_regressor</td>\n",
              "      <td>0.83</td>\n",
              "    </tr>\n",
              "    <tr>\n",
              "      <th>5</th>\n",
              "      <td>kneighbors_regressor</td>\n",
              "      <td>0.83</td>\n",
              "    </tr>\n",
              "    <tr>\n",
              "      <th>11</th>\n",
              "      <td>random_forest_regressor</td>\n",
              "      <td>0.82</td>\n",
              "    </tr>\n",
              "    <tr>\n",
              "      <th>13</th>\n",
              "      <td>gradient_boosting_regressor</td>\n",
              "      <td>0.79</td>\n",
              "    </tr>\n",
              "    <tr>\n",
              "      <th>2</th>\n",
              "      <td>lasso</td>\n",
              "      <td>0.78</td>\n",
              "    </tr>\n",
              "    <tr>\n",
              "      <th>3</th>\n",
              "      <td>elastic_net</td>\n",
              "      <td>0.76</td>\n",
              "    </tr>\n",
              "    <tr>\n",
              "      <th>10</th>\n",
              "      <td>decision_tree_regressor</td>\n",
              "      <td>0.73</td>\n",
              "    </tr>\n",
              "    <tr>\n",
              "      <th>9</th>\n",
              "      <td>SVR_rbf</td>\n",
              "      <td>0.61</td>\n",
              "    </tr>\n",
              "    <tr>\n",
              "      <th>7</th>\n",
              "      <td>SVR_poly_two</td>\n",
              "      <td>-0.40</td>\n",
              "    </tr>\n",
              "    <tr>\n",
              "      <th>8</th>\n",
              "      <td>SVR_poly_three</td>\n",
              "      <td>-3.86</td>\n",
              "    </tr>\n",
              "  </tbody>\n",
              "</table>\n",
              "</div>"
            ],
            "text/plain": [
              "                     model_name  test_score\n",
              "0             linear_regression        0.95\n",
              "6                    SVR_linear        0.92\n",
              "1                         ridge        0.92\n",
              "4                 sgd_regressor        0.88\n",
              "12          ada_boost_regressor        0.83\n",
              "5          kneighbors_regressor        0.83\n",
              "11      random_forest_regressor        0.82\n",
              "13  gradient_boosting_regressor        0.79\n",
              "2                         lasso        0.78\n",
              "3                   elastic_net        0.76\n",
              "10      decision_tree_regressor        0.73\n",
              "9                       SVR_rbf        0.61\n",
              "7                  SVR_poly_two       -0.40\n",
              "8                SVR_poly_three       -3.86"
            ]
          },
          "execution_count": 39,
          "metadata": {},
          "output_type": "execute_result"
        }
      ],
      "source": [
        "%%time\n",
        "\n",
        "different_test_scores = []\n",
        "\n",
        "for model_name, model in zip(models_names, models):\n",
        "\n",
        "    model.fit(X_train_scaled, y_train)\n",
        "    different_test_scores.append(np.mean(cross_val_score(model, X_test_scaled, y_test)))\n",
        "    \n",
        "\n",
        "comparing_regression_models = pd.DataFrame(list(zip(models_names, different_test_scores)),\n",
        "                                                columns =['model_name', 'test_score'])\n",
        "\n",
        "round(comparing_regression_models.sort_values(by = \"test_score\", ascending = False),2)"
      ]
    },
    {
      "attachments": {},
      "cell_type": "markdown",
      "id": "b4caeee0",
      "metadata": {
        "id": "b4caeee0"
      },
      "source": [
        "## ✂️ Model without Outliers"
      ]
    },
    {
      "cell_type": "code",
      "execution_count": null,
      "id": "9413ef90",
      "metadata": {
        "id": "9413ef90"
      },
      "outputs": [],
      "source": [
        "#create a function to process dataframe for modeling\n",
        "def no_outliers(df):\n",
        "    no_outliers_df = df[df['乗組員'] <= 19]\n",
        "    X = no_outliers_df[['トン数', '乗客数', '長さ', '船室']]\n",
        "    y = no_outliers_df['乗組員']\n",
        "    X_train, X_test, y_train, y_test = train_test_split(X, y, test_size=.3, random_state=22)\n",
        "    ss = StandardScaler()\n",
        "    ss.fit(X_train)\n",
        "    X_train_scaled = pd.DataFrame(ss.transform(X_train),\n",
        "                                  columns=ss.get_feature_names_out())\n",
        "    X_test_scaled = pd.DataFrame(ss.transform(X_test),\n",
        "                                  columns=ss.get_feature_names_out())\n",
        "    return X_train_scaled, X_test_scaled, y_train, y_test"
      ]
    },
    {
      "cell_type": "code",
      "execution_count": null,
      "id": "8e376efe",
      "metadata": {
        "id": "8e376efe"
      },
      "outputs": [],
      "source": [
        "X_train_scaled, X_test_scaled, y_train, y_test = no_outliers(data)"
      ]
    },
    {
      "cell_type": "code",
      "execution_count": null,
      "id": "fa5a263e",
      "metadata": {
        "id": "fa5a263e",
        "outputId": "d17ef152-5271-4d7b-c179-70385c71ec74"
      },
      "outputs": [
        {
          "name": "stdout",
          "output_type": "stream",
          "text": [
            "CPU times: user 1.31 s, sys: 0 ns, total: 1.31 s\n",
            "Wall time: 1.42 s\n"
          ]
        },
        {
          "data": {
            "text/html": [
              "<div>\n",
              "<style scoped>\n",
              "    .dataframe tbody tr th:only-of-type {\n",
              "        vertical-align: middle;\n",
              "    }\n",
              "\n",
              "    .dataframe tbody tr th {\n",
              "        vertical-align: top;\n",
              "    }\n",
              "\n",
              "    .dataframe thead th {\n",
              "        text-align: right;\n",
              "    }\n",
              "</style>\n",
              "<table border=\"1\" class=\"dataframe\">\n",
              "  <thead>\n",
              "    <tr style=\"text-align: right;\">\n",
              "      <th></th>\n",
              "      <th>model_name</th>\n",
              "      <th>test_score</th>\n",
              "    </tr>\n",
              "  </thead>\n",
              "  <tbody>\n",
              "    <tr>\n",
              "      <th>6</th>\n",
              "      <td>SVR_linear</td>\n",
              "      <td>0.93</td>\n",
              "    </tr>\n",
              "    <tr>\n",
              "      <th>1</th>\n",
              "      <td>ridge</td>\n",
              "      <td>0.93</td>\n",
              "    </tr>\n",
              "    <tr>\n",
              "      <th>0</th>\n",
              "      <td>linear_regression</td>\n",
              "      <td>0.93</td>\n",
              "    </tr>\n",
              "    <tr>\n",
              "      <th>4</th>\n",
              "      <td>sgd_regressor</td>\n",
              "      <td>0.93</td>\n",
              "    </tr>\n",
              "    <tr>\n",
              "      <th>11</th>\n",
              "      <td>random_forest_regressor</td>\n",
              "      <td>0.91</td>\n",
              "    </tr>\n",
              "    <tr>\n",
              "      <th>5</th>\n",
              "      <td>kneighbors_regressor</td>\n",
              "      <td>0.90</td>\n",
              "    </tr>\n",
              "    <tr>\n",
              "      <th>3</th>\n",
              "      <td>elastic_net</td>\n",
              "      <td>0.88</td>\n",
              "    </tr>\n",
              "    <tr>\n",
              "      <th>13</th>\n",
              "      <td>gradient_boosting_regressor</td>\n",
              "      <td>0.88</td>\n",
              "    </tr>\n",
              "    <tr>\n",
              "      <th>12</th>\n",
              "      <td>ada_boost_regressor</td>\n",
              "      <td>0.86</td>\n",
              "    </tr>\n",
              "    <tr>\n",
              "      <th>2</th>\n",
              "      <td>lasso</td>\n",
              "      <td>0.85</td>\n",
              "    </tr>\n",
              "    <tr>\n",
              "      <th>9</th>\n",
              "      <td>SVR_rbf</td>\n",
              "      <td>0.84</td>\n",
              "    </tr>\n",
              "    <tr>\n",
              "      <th>10</th>\n",
              "      <td>decision_tree_regressor</td>\n",
              "      <td>0.80</td>\n",
              "    </tr>\n",
              "    <tr>\n",
              "      <th>8</th>\n",
              "      <td>SVR_poly_three</td>\n",
              "      <td>0.61</td>\n",
              "    </tr>\n",
              "    <tr>\n",
              "      <th>7</th>\n",
              "      <td>SVR_poly_two</td>\n",
              "      <td>-0.04</td>\n",
              "    </tr>\n",
              "  </tbody>\n",
              "</table>\n",
              "</div>"
            ],
            "text/plain": [
              "                     model_name  test_score\n",
              "6                    SVR_linear        0.93\n",
              "1                         ridge        0.93\n",
              "0             linear_regression        0.93\n",
              "4                 sgd_regressor        0.93\n",
              "11      random_forest_regressor        0.91\n",
              "5          kneighbors_regressor        0.90\n",
              "3                   elastic_net        0.88\n",
              "13  gradient_boosting_regressor        0.88\n",
              "12          ada_boost_regressor        0.86\n",
              "2                         lasso        0.85\n",
              "9                       SVR_rbf        0.84\n",
              "10      decision_tree_regressor        0.80\n",
              "8                SVR_poly_three        0.61\n",
              "7                  SVR_poly_two       -0.04"
            ]
          },
          "execution_count": 42,
          "metadata": {},
          "output_type": "execute_result"
        }
      ],
      "source": [
        "%%time\n",
        "\n",
        "different_test_scores = []\n",
        "\n",
        "for model_name, model in zip(models_names, models):\n",
        "\n",
        "    model.fit(X_train_scaled, y_train)\n",
        "    different_test_scores.append(np.mean(cross_val_score(model, X_test_scaled, y_test)))\n",
        "    \n",
        "\n",
        "comparing_regression_models = pd.DataFrame(list(zip(models_names, different_test_scores)),\n",
        "                                                columns =['model_name', 'test_score'])\n",
        "\n",
        "round(comparing_regression_models.sort_values(by = \"test_score\", ascending = False),2)"
      ]
    },
    {
      "attachments": {},
      "cell_type": "markdown",
      "id": "c04093d8",
      "metadata": {
        "id": "c04093d8"
      },
      "source": [
        "## 🔍 Checking Hyperparameters"
      ]
    },
    {
      "attachments": {},
      "cell_type": "markdown",
      "id": "c888dbda",
      "metadata": {
        "id": "c888dbda"
      },
      "source": [
        "### Linear SVR"
      ]
    },
    {
      "cell_type": "code",
      "execution_count": null,
      "id": "cfa7607f",
      "metadata": {
        "id": "cfa7607f"
      },
      "outputs": [],
      "source": [
        "X_train_scaled, X_test_scaled, y_train, y_test = preprocessor(data)"
      ]
    },
    {
      "cell_type": "code",
      "execution_count": null,
      "id": "3d3b8077",
      "metadata": {
        "id": "3d3b8077"
      },
      "outputs": [],
      "source": [
        "param_grid = {\n",
        "    'C': np.arange(5, 20, 1), \n",
        "    'epsilon': np.arange(.01, .1, .01)  \n",
        "}"
      ]
    },
    {
      "cell_type": "code",
      "execution_count": null,
      "id": "2efdf5da",
      "metadata": {
        "id": "2efdf5da"
      },
      "outputs": [],
      "source": [
        "svr = SVR(kernel='linear')\n",
        "\n",
        "grid_search = GridSearchCV(estimator=svr, \n",
        "                           param_grid=param_grid, \n",
        "                           cv=5,\n",
        "                          scoring= ['r2'],\n",
        "                          refit= 'r2',\n",
        "                          n_jobs= -1)"
      ]
    },
    {
      "cell_type": "code",
      "execution_count": null,
      "id": "8042c8b5",
      "metadata": {
        "id": "8042c8b5",
        "outputId": "ae1791e0-97ff-4353-e10c-6ac828ff146b"
      },
      "outputs": [
        {
          "name": "stdout",
          "output_type": "stream",
          "text": [
            "CPU times: user 823 ms, sys: 416 ms, total: 1.24 s\n",
            "Wall time: 5.44 s\n"
          ]
        },
        {
          "data": {
            "text/html": [
              "<style>#sk-container-id-2 {color: black;background-color: white;}#sk-container-id-2 pre{padding: 0;}#sk-container-id-2 div.sk-toggleable {background-color: white;}#sk-container-id-2 label.sk-toggleable__label {cursor: pointer;display: block;width: 100%;margin-bottom: 0;padding: 0.3em;box-sizing: border-box;text-align: center;}#sk-container-id-2 label.sk-toggleable__label-arrow:before {content: \"▸\";float: left;margin-right: 0.25em;color: #696969;}#sk-container-id-2 label.sk-toggleable__label-arrow:hover:before {color: black;}#sk-container-id-2 div.sk-estimator:hover label.sk-toggleable__label-arrow:before {color: black;}#sk-container-id-2 div.sk-toggleable__content {max-height: 0;max-width: 0;overflow: hidden;text-align: left;background-color: #f0f8ff;}#sk-container-id-2 div.sk-toggleable__content pre {margin: 0.2em;color: black;border-radius: 0.25em;background-color: #f0f8ff;}#sk-container-id-2 input.sk-toggleable__control:checked~div.sk-toggleable__content {max-height: 200px;max-width: 100%;overflow: auto;}#sk-container-id-2 input.sk-toggleable__control:checked~label.sk-toggleable__label-arrow:before {content: \"▾\";}#sk-container-id-2 div.sk-estimator input.sk-toggleable__control:checked~label.sk-toggleable__label {background-color: #d4ebff;}#sk-container-id-2 div.sk-label input.sk-toggleable__control:checked~label.sk-toggleable__label {background-color: #d4ebff;}#sk-container-id-2 input.sk-hidden--visually {border: 0;clip: rect(1px 1px 1px 1px);clip: rect(1px, 1px, 1px, 1px);height: 1px;margin: -1px;overflow: hidden;padding: 0;position: absolute;width: 1px;}#sk-container-id-2 div.sk-estimator {font-family: monospace;background-color: #f0f8ff;border: 1px dotted black;border-radius: 0.25em;box-sizing: border-box;margin-bottom: 0.5em;}#sk-container-id-2 div.sk-estimator:hover {background-color: #d4ebff;}#sk-container-id-2 div.sk-parallel-item::after {content: \"\";width: 100%;border-bottom: 1px solid gray;flex-grow: 1;}#sk-container-id-2 div.sk-label:hover label.sk-toggleable__label {background-color: #d4ebff;}#sk-container-id-2 div.sk-serial::before {content: \"\";position: absolute;border-left: 1px solid gray;box-sizing: border-box;top: 0;bottom: 0;left: 50%;z-index: 0;}#sk-container-id-2 div.sk-serial {display: flex;flex-direction: column;align-items: center;background-color: white;padding-right: 0.2em;padding-left: 0.2em;position: relative;}#sk-container-id-2 div.sk-item {position: relative;z-index: 1;}#sk-container-id-2 div.sk-parallel {display: flex;align-items: stretch;justify-content: center;background-color: white;position: relative;}#sk-container-id-2 div.sk-item::before, #sk-container-id-2 div.sk-parallel-item::before {content: \"\";position: absolute;border-left: 1px solid gray;box-sizing: border-box;top: 0;bottom: 0;left: 50%;z-index: -1;}#sk-container-id-2 div.sk-parallel-item {display: flex;flex-direction: column;z-index: 1;position: relative;background-color: white;}#sk-container-id-2 div.sk-parallel-item:first-child::after {align-self: flex-end;width: 50%;}#sk-container-id-2 div.sk-parallel-item:last-child::after {align-self: flex-start;width: 50%;}#sk-container-id-2 div.sk-parallel-item:only-child::after {width: 0;}#sk-container-id-2 div.sk-dashed-wrapped {border: 1px dashed gray;margin: 0 0.4em 0.5em 0.4em;box-sizing: border-box;padding-bottom: 0.4em;background-color: white;}#sk-container-id-2 div.sk-label label {font-family: monospace;font-weight: bold;display: inline-block;line-height: 1.2em;}#sk-container-id-2 div.sk-label-container {text-align: center;}#sk-container-id-2 div.sk-container {/* jupyter's `normalize.less` sets `[hidden] { display: none; }` but bootstrap.min.css set `[hidden] { display: none !important; }` so we also need the `!important` here to be able to override the default hidden behavior on the sphinx rendered scikit-learn.org. See: https://github.com/scikit-learn/scikit-learn/issues/21755 */display: inline-block !important;position: relative;}#sk-container-id-2 div.sk-text-repr-fallback {display: none;}</style><div id=\"sk-container-id-2\" class=\"sk-top-container\"><div class=\"sk-text-repr-fallback\"><pre>GridSearchCV(cv=5, estimator=SVR(kernel=&#x27;linear&#x27;), n_jobs=-1,\n",
              "             param_grid={&#x27;C&#x27;: array([ 5,  6,  7,  8,  9, 10, 11, 12, 13, 14, 15, 16, 17, 18, 19]),\n",
              "                         &#x27;epsilon&#x27;: array([0.01, 0.02, 0.03, 0.04, 0.05, 0.06, 0.07, 0.08, 0.09])},\n",
              "             refit=&#x27;r2&#x27;, scoring=[&#x27;r2&#x27;])</pre><b>In a Jupyter environment, please rerun this cell to show the HTML representation or trust the notebook. <br />On GitHub, the HTML representation is unable to render, please try loading this page with nbviewer.org.</b></div><div class=\"sk-container\" hidden><div class=\"sk-item sk-dashed-wrapped\"><div class=\"sk-label-container\"><div class=\"sk-label sk-toggleable\"><input class=\"sk-toggleable__control sk-hidden--visually\" id=\"sk-estimator-id-2\" type=\"checkbox\" ><label for=\"sk-estimator-id-2\" class=\"sk-toggleable__label sk-toggleable__label-arrow\">GridSearchCV</label><div class=\"sk-toggleable__content\"><pre>GridSearchCV(cv=5, estimator=SVR(kernel=&#x27;linear&#x27;), n_jobs=-1,\n",
              "             param_grid={&#x27;C&#x27;: array([ 5,  6,  7,  8,  9, 10, 11, 12, 13, 14, 15, 16, 17, 18, 19]),\n",
              "                         &#x27;epsilon&#x27;: array([0.01, 0.02, 0.03, 0.04, 0.05, 0.06, 0.07, 0.08, 0.09])},\n",
              "             refit=&#x27;r2&#x27;, scoring=[&#x27;r2&#x27;])</pre></div></div></div><div class=\"sk-parallel\"><div class=\"sk-parallel-item\"><div class=\"sk-item\"><div class=\"sk-label-container\"><div class=\"sk-label sk-toggleable\"><input class=\"sk-toggleable__control sk-hidden--visually\" id=\"sk-estimator-id-3\" type=\"checkbox\" ><label for=\"sk-estimator-id-3\" class=\"sk-toggleable__label sk-toggleable__label-arrow\">estimator: SVR</label><div class=\"sk-toggleable__content\"><pre>SVR(kernel=&#x27;linear&#x27;)</pre></div></div></div><div class=\"sk-serial\"><div class=\"sk-item\"><div class=\"sk-estimator sk-toggleable\"><input class=\"sk-toggleable__control sk-hidden--visually\" id=\"sk-estimator-id-4\" type=\"checkbox\" ><label for=\"sk-estimator-id-4\" class=\"sk-toggleable__label sk-toggleable__label-arrow\">SVR</label><div class=\"sk-toggleable__content\"><pre>SVR(kernel=&#x27;linear&#x27;)</pre></div></div></div></div></div></div></div></div></div></div>"
            ],
            "text/plain": [
              "GridSearchCV(cv=5, estimator=SVR(kernel='linear'), n_jobs=-1,\n",
              "             param_grid={'C': array([ 5,  6,  7,  8,  9, 10, 11, 12, 13, 14, 15, 16, 17, 18, 19]),\n",
              "                         'epsilon': array([0.01, 0.02, 0.03, 0.04, 0.05, 0.06, 0.07, 0.08, 0.09])},\n",
              "             refit='r2', scoring=['r2'])"
            ]
          },
          "execution_count": 79,
          "metadata": {},
          "output_type": "execute_result"
        }
      ],
      "source": [
        "%%time\n",
        "grid_search.fit(X_train_scaled, y_train)"
      ]
    },
    {
      "cell_type": "code",
      "execution_count": null,
      "id": "7b85252d",
      "metadata": {
        "id": "7b85252d",
        "outputId": "320819d6-0897-48f5-9ad2-e3a2d27f7a47"
      },
      "outputs": [
        {
          "data": {
            "text/plain": [
              "0.9083557388086231"
            ]
          },
          "execution_count": 80,
          "metadata": {},
          "output_type": "execute_result"
        }
      ],
      "source": [
        "grid_search.best_score_"
      ]
    },
    {
      "cell_type": "code",
      "execution_count": null,
      "id": "33df6791",
      "metadata": {
        "id": "33df6791",
        "outputId": "0f3d9fe4-3579-4f02-d65e-3e4dd13a578c"
      },
      "outputs": [
        {
          "data": {
            "text/html": [
              "<style>#sk-container-id-3 {color: black;background-color: white;}#sk-container-id-3 pre{padding: 0;}#sk-container-id-3 div.sk-toggleable {background-color: white;}#sk-container-id-3 label.sk-toggleable__label {cursor: pointer;display: block;width: 100%;margin-bottom: 0;padding: 0.3em;box-sizing: border-box;text-align: center;}#sk-container-id-3 label.sk-toggleable__label-arrow:before {content: \"▸\";float: left;margin-right: 0.25em;color: #696969;}#sk-container-id-3 label.sk-toggleable__label-arrow:hover:before {color: black;}#sk-container-id-3 div.sk-estimator:hover label.sk-toggleable__label-arrow:before {color: black;}#sk-container-id-3 div.sk-toggleable__content {max-height: 0;max-width: 0;overflow: hidden;text-align: left;background-color: #f0f8ff;}#sk-container-id-3 div.sk-toggleable__content pre {margin: 0.2em;color: black;border-radius: 0.25em;background-color: #f0f8ff;}#sk-container-id-3 input.sk-toggleable__control:checked~div.sk-toggleable__content {max-height: 200px;max-width: 100%;overflow: auto;}#sk-container-id-3 input.sk-toggleable__control:checked~label.sk-toggleable__label-arrow:before {content: \"▾\";}#sk-container-id-3 div.sk-estimator input.sk-toggleable__control:checked~label.sk-toggleable__label {background-color: #d4ebff;}#sk-container-id-3 div.sk-label input.sk-toggleable__control:checked~label.sk-toggleable__label {background-color: #d4ebff;}#sk-container-id-3 input.sk-hidden--visually {border: 0;clip: rect(1px 1px 1px 1px);clip: rect(1px, 1px, 1px, 1px);height: 1px;margin: -1px;overflow: hidden;padding: 0;position: absolute;width: 1px;}#sk-container-id-3 div.sk-estimator {font-family: monospace;background-color: #f0f8ff;border: 1px dotted black;border-radius: 0.25em;box-sizing: border-box;margin-bottom: 0.5em;}#sk-container-id-3 div.sk-estimator:hover {background-color: #d4ebff;}#sk-container-id-3 div.sk-parallel-item::after {content: \"\";width: 100%;border-bottom: 1px solid gray;flex-grow: 1;}#sk-container-id-3 div.sk-label:hover label.sk-toggleable__label {background-color: #d4ebff;}#sk-container-id-3 div.sk-serial::before {content: \"\";position: absolute;border-left: 1px solid gray;box-sizing: border-box;top: 0;bottom: 0;left: 50%;z-index: 0;}#sk-container-id-3 div.sk-serial {display: flex;flex-direction: column;align-items: center;background-color: white;padding-right: 0.2em;padding-left: 0.2em;position: relative;}#sk-container-id-3 div.sk-item {position: relative;z-index: 1;}#sk-container-id-3 div.sk-parallel {display: flex;align-items: stretch;justify-content: center;background-color: white;position: relative;}#sk-container-id-3 div.sk-item::before, #sk-container-id-3 div.sk-parallel-item::before {content: \"\";position: absolute;border-left: 1px solid gray;box-sizing: border-box;top: 0;bottom: 0;left: 50%;z-index: -1;}#sk-container-id-3 div.sk-parallel-item {display: flex;flex-direction: column;z-index: 1;position: relative;background-color: white;}#sk-container-id-3 div.sk-parallel-item:first-child::after {align-self: flex-end;width: 50%;}#sk-container-id-3 div.sk-parallel-item:last-child::after {align-self: flex-start;width: 50%;}#sk-container-id-3 div.sk-parallel-item:only-child::after {width: 0;}#sk-container-id-3 div.sk-dashed-wrapped {border: 1px dashed gray;margin: 0 0.4em 0.5em 0.4em;box-sizing: border-box;padding-bottom: 0.4em;background-color: white;}#sk-container-id-3 div.sk-label label {font-family: monospace;font-weight: bold;display: inline-block;line-height: 1.2em;}#sk-container-id-3 div.sk-label-container {text-align: center;}#sk-container-id-3 div.sk-container {/* jupyter's `normalize.less` sets `[hidden] { display: none; }` but bootstrap.min.css set `[hidden] { display: none !important; }` so we also need the `!important` here to be able to override the default hidden behavior on the sphinx rendered scikit-learn.org. See: https://github.com/scikit-learn/scikit-learn/issues/21755 */display: inline-block !important;position: relative;}#sk-container-id-3 div.sk-text-repr-fallback {display: none;}</style><div id=\"sk-container-id-3\" class=\"sk-top-container\"><div class=\"sk-text-repr-fallback\"><pre>SVR(C=5, epsilon=0.09, kernel=&#x27;linear&#x27;)</pre><b>In a Jupyter environment, please rerun this cell to show the HTML representation or trust the notebook. <br />On GitHub, the HTML representation is unable to render, please try loading this page with nbviewer.org.</b></div><div class=\"sk-container\" hidden><div class=\"sk-item\"><div class=\"sk-estimator sk-toggleable\"><input class=\"sk-toggleable__control sk-hidden--visually\" id=\"sk-estimator-id-5\" type=\"checkbox\" checked><label for=\"sk-estimator-id-5\" class=\"sk-toggleable__label sk-toggleable__label-arrow\">SVR</label><div class=\"sk-toggleable__content\"><pre>SVR(C=5, epsilon=0.09, kernel=&#x27;linear&#x27;)</pre></div></div></div></div></div>"
            ],
            "text/plain": [
              "SVR(C=5, epsilon=0.09, kernel='linear')"
            ]
          },
          "execution_count": 81,
          "metadata": {},
          "output_type": "execute_result"
        }
      ],
      "source": [
        "grid_search.best_estimator_"
      ]
    },
    {
      "attachments": {},
      "cell_type": "markdown",
      "id": "0c23c381",
      "metadata": {
        "id": "0c23c381"
      },
      "source": [
        "### Ridge Regressor "
      ]
    },
    {
      "cell_type": "code",
      "execution_count": null,
      "id": "ab68c091",
      "metadata": {
        "id": "ab68c091"
      },
      "outputs": [],
      "source": [
        "X_train_scaled, X_test_scaled, y_train, y_test = preprocessor(data)"
      ]
    },
    {
      "cell_type": "code",
      "execution_count": null,
      "id": "bdf992b3",
      "metadata": {
        "id": "bdf992b3"
      },
      "outputs": [],
      "source": [
        "param_grid = {\n",
        "    'alpha' : np.arange(.1, 1, .1)\n",
        "} "
      ]
    },
    {
      "cell_type": "code",
      "execution_count": null,
      "id": "5701d7bc",
      "metadata": {
        "id": "5701d7bc",
        "outputId": "fd2e8f3e-a2e9-4d09-e4cb-692c8b123d8f"
      },
      "outputs": [
        {
          "data": {
            "text/html": [
              "<style>#sk-container-id-4 {color: black;background-color: white;}#sk-container-id-4 pre{padding: 0;}#sk-container-id-4 div.sk-toggleable {background-color: white;}#sk-container-id-4 label.sk-toggleable__label {cursor: pointer;display: block;width: 100%;margin-bottom: 0;padding: 0.3em;box-sizing: border-box;text-align: center;}#sk-container-id-4 label.sk-toggleable__label-arrow:before {content: \"▸\";float: left;margin-right: 0.25em;color: #696969;}#sk-container-id-4 label.sk-toggleable__label-arrow:hover:before {color: black;}#sk-container-id-4 div.sk-estimator:hover label.sk-toggleable__label-arrow:before {color: black;}#sk-container-id-4 div.sk-toggleable__content {max-height: 0;max-width: 0;overflow: hidden;text-align: left;background-color: #f0f8ff;}#sk-container-id-4 div.sk-toggleable__content pre {margin: 0.2em;color: black;border-radius: 0.25em;background-color: #f0f8ff;}#sk-container-id-4 input.sk-toggleable__control:checked~div.sk-toggleable__content {max-height: 200px;max-width: 100%;overflow: auto;}#sk-container-id-4 input.sk-toggleable__control:checked~label.sk-toggleable__label-arrow:before {content: \"▾\";}#sk-container-id-4 div.sk-estimator input.sk-toggleable__control:checked~label.sk-toggleable__label {background-color: #d4ebff;}#sk-container-id-4 div.sk-label input.sk-toggleable__control:checked~label.sk-toggleable__label {background-color: #d4ebff;}#sk-container-id-4 input.sk-hidden--visually {border: 0;clip: rect(1px 1px 1px 1px);clip: rect(1px, 1px, 1px, 1px);height: 1px;margin: -1px;overflow: hidden;padding: 0;position: absolute;width: 1px;}#sk-container-id-4 div.sk-estimator {font-family: monospace;background-color: #f0f8ff;border: 1px dotted black;border-radius: 0.25em;box-sizing: border-box;margin-bottom: 0.5em;}#sk-container-id-4 div.sk-estimator:hover {background-color: #d4ebff;}#sk-container-id-4 div.sk-parallel-item::after {content: \"\";width: 100%;border-bottom: 1px solid gray;flex-grow: 1;}#sk-container-id-4 div.sk-label:hover label.sk-toggleable__label {background-color: #d4ebff;}#sk-container-id-4 div.sk-serial::before {content: \"\";position: absolute;border-left: 1px solid gray;box-sizing: border-box;top: 0;bottom: 0;left: 50%;z-index: 0;}#sk-container-id-4 div.sk-serial {display: flex;flex-direction: column;align-items: center;background-color: white;padding-right: 0.2em;padding-left: 0.2em;position: relative;}#sk-container-id-4 div.sk-item {position: relative;z-index: 1;}#sk-container-id-4 div.sk-parallel {display: flex;align-items: stretch;justify-content: center;background-color: white;position: relative;}#sk-container-id-4 div.sk-item::before, #sk-container-id-4 div.sk-parallel-item::before {content: \"\";position: absolute;border-left: 1px solid gray;box-sizing: border-box;top: 0;bottom: 0;left: 50%;z-index: -1;}#sk-container-id-4 div.sk-parallel-item {display: flex;flex-direction: column;z-index: 1;position: relative;background-color: white;}#sk-container-id-4 div.sk-parallel-item:first-child::after {align-self: flex-end;width: 50%;}#sk-container-id-4 div.sk-parallel-item:last-child::after {align-self: flex-start;width: 50%;}#sk-container-id-4 div.sk-parallel-item:only-child::after {width: 0;}#sk-container-id-4 div.sk-dashed-wrapped {border: 1px dashed gray;margin: 0 0.4em 0.5em 0.4em;box-sizing: border-box;padding-bottom: 0.4em;background-color: white;}#sk-container-id-4 div.sk-label label {font-family: monospace;font-weight: bold;display: inline-block;line-height: 1.2em;}#sk-container-id-4 div.sk-label-container {text-align: center;}#sk-container-id-4 div.sk-container {/* jupyter's `normalize.less` sets `[hidden] { display: none; }` but bootstrap.min.css set `[hidden] { display: none !important; }` so we also need the `!important` here to be able to override the default hidden behavior on the sphinx rendered scikit-learn.org. See: https://github.com/scikit-learn/scikit-learn/issues/21755 */display: inline-block !important;position: relative;}#sk-container-id-4 div.sk-text-repr-fallback {display: none;}</style><div id=\"sk-container-id-4\" class=\"sk-top-container\"><div class=\"sk-text-repr-fallback\"><pre>GridSearchCV(cv=5, estimator=Ridge(), n_jobs=-1,\n",
              "             param_grid={&#x27;alpha&#x27;: array([0.1, 0.2, 0.3, 0.4, 0.5, 0.6, 0.7, 0.8, 0.9])},\n",
              "             refit=&#x27;r2&#x27;, scoring=[&#x27;r2&#x27;, &#x27;neg_mean_squared_error&#x27;])</pre><b>In a Jupyter environment, please rerun this cell to show the HTML representation or trust the notebook. <br />On GitHub, the HTML representation is unable to render, please try loading this page with nbviewer.org.</b></div><div class=\"sk-container\" hidden><div class=\"sk-item sk-dashed-wrapped\"><div class=\"sk-label-container\"><div class=\"sk-label sk-toggleable\"><input class=\"sk-toggleable__control sk-hidden--visually\" id=\"sk-estimator-id-6\" type=\"checkbox\" ><label for=\"sk-estimator-id-6\" class=\"sk-toggleable__label sk-toggleable__label-arrow\">GridSearchCV</label><div class=\"sk-toggleable__content\"><pre>GridSearchCV(cv=5, estimator=Ridge(), n_jobs=-1,\n",
              "             param_grid={&#x27;alpha&#x27;: array([0.1, 0.2, 0.3, 0.4, 0.5, 0.6, 0.7, 0.8, 0.9])},\n",
              "             refit=&#x27;r2&#x27;, scoring=[&#x27;r2&#x27;, &#x27;neg_mean_squared_error&#x27;])</pre></div></div></div><div class=\"sk-parallel\"><div class=\"sk-parallel-item\"><div class=\"sk-item\"><div class=\"sk-label-container\"><div class=\"sk-label sk-toggleable\"><input class=\"sk-toggleable__control sk-hidden--visually\" id=\"sk-estimator-id-7\" type=\"checkbox\" ><label for=\"sk-estimator-id-7\" class=\"sk-toggleable__label sk-toggleable__label-arrow\">estimator: Ridge</label><div class=\"sk-toggleable__content\"><pre>Ridge()</pre></div></div></div><div class=\"sk-serial\"><div class=\"sk-item\"><div class=\"sk-estimator sk-toggleable\"><input class=\"sk-toggleable__control sk-hidden--visually\" id=\"sk-estimator-id-8\" type=\"checkbox\" ><label for=\"sk-estimator-id-8\" class=\"sk-toggleable__label sk-toggleable__label-arrow\">Ridge</label><div class=\"sk-toggleable__content\"><pre>Ridge()</pre></div></div></div></div></div></div></div></div></div></div>"
            ],
            "text/plain": [
              "GridSearchCV(cv=5, estimator=Ridge(), n_jobs=-1,\n",
              "             param_grid={'alpha': array([0.1, 0.2, 0.3, 0.4, 0.5, 0.6, 0.7, 0.8, 0.9])},\n",
              "             refit='r2', scoring=['r2', 'neg_mean_squared_error'])"
            ]
          },
          "execution_count": 84,
          "metadata": {},
          "output_type": "execute_result"
        }
      ],
      "source": [
        "grid_search = GridSearchCV(estimator = Ridge(),\n",
        "                           param_grid = param_grid,\n",
        "                           cv = 5,\n",
        "                           scoring = ['r2','neg_mean_squared_error'],\n",
        "                           refit = 'r2',\n",
        "                           n_jobs = -1)\n",
        "\n",
        "grid_search"
      ]
    },
    {
      "cell_type": "code",
      "execution_count": null,
      "id": "9f7426b3",
      "metadata": {
        "id": "9f7426b3",
        "outputId": "72c88f2a-059e-479b-bf17-c8f4ebfe1151"
      },
      "outputs": [
        {
          "name": "stdout",
          "output_type": "stream",
          "text": [
            "CPU times: user 157 ms, sys: 23.2 ms, total: 180 ms\n",
            "Wall time: 183 ms\n"
          ]
        },
        {
          "data": {
            "text/html": [
              "<style>#sk-container-id-5 {color: black;background-color: white;}#sk-container-id-5 pre{padding: 0;}#sk-container-id-5 div.sk-toggleable {background-color: white;}#sk-container-id-5 label.sk-toggleable__label {cursor: pointer;display: block;width: 100%;margin-bottom: 0;padding: 0.3em;box-sizing: border-box;text-align: center;}#sk-container-id-5 label.sk-toggleable__label-arrow:before {content: \"▸\";float: left;margin-right: 0.25em;color: #696969;}#sk-container-id-5 label.sk-toggleable__label-arrow:hover:before {color: black;}#sk-container-id-5 div.sk-estimator:hover label.sk-toggleable__label-arrow:before {color: black;}#sk-container-id-5 div.sk-toggleable__content {max-height: 0;max-width: 0;overflow: hidden;text-align: left;background-color: #f0f8ff;}#sk-container-id-5 div.sk-toggleable__content pre {margin: 0.2em;color: black;border-radius: 0.25em;background-color: #f0f8ff;}#sk-container-id-5 input.sk-toggleable__control:checked~div.sk-toggleable__content {max-height: 200px;max-width: 100%;overflow: auto;}#sk-container-id-5 input.sk-toggleable__control:checked~label.sk-toggleable__label-arrow:before {content: \"▾\";}#sk-container-id-5 div.sk-estimator input.sk-toggleable__control:checked~label.sk-toggleable__label {background-color: #d4ebff;}#sk-container-id-5 div.sk-label input.sk-toggleable__control:checked~label.sk-toggleable__label {background-color: #d4ebff;}#sk-container-id-5 input.sk-hidden--visually {border: 0;clip: rect(1px 1px 1px 1px);clip: rect(1px, 1px, 1px, 1px);height: 1px;margin: -1px;overflow: hidden;padding: 0;position: absolute;width: 1px;}#sk-container-id-5 div.sk-estimator {font-family: monospace;background-color: #f0f8ff;border: 1px dotted black;border-radius: 0.25em;box-sizing: border-box;margin-bottom: 0.5em;}#sk-container-id-5 div.sk-estimator:hover {background-color: #d4ebff;}#sk-container-id-5 div.sk-parallel-item::after {content: \"\";width: 100%;border-bottom: 1px solid gray;flex-grow: 1;}#sk-container-id-5 div.sk-label:hover label.sk-toggleable__label {background-color: #d4ebff;}#sk-container-id-5 div.sk-serial::before {content: \"\";position: absolute;border-left: 1px solid gray;box-sizing: border-box;top: 0;bottom: 0;left: 50%;z-index: 0;}#sk-container-id-5 div.sk-serial {display: flex;flex-direction: column;align-items: center;background-color: white;padding-right: 0.2em;padding-left: 0.2em;position: relative;}#sk-container-id-5 div.sk-item {position: relative;z-index: 1;}#sk-container-id-5 div.sk-parallel {display: flex;align-items: stretch;justify-content: center;background-color: white;position: relative;}#sk-container-id-5 div.sk-item::before, #sk-container-id-5 div.sk-parallel-item::before {content: \"\";position: absolute;border-left: 1px solid gray;box-sizing: border-box;top: 0;bottom: 0;left: 50%;z-index: -1;}#sk-container-id-5 div.sk-parallel-item {display: flex;flex-direction: column;z-index: 1;position: relative;background-color: white;}#sk-container-id-5 div.sk-parallel-item:first-child::after {align-self: flex-end;width: 50%;}#sk-container-id-5 div.sk-parallel-item:last-child::after {align-self: flex-start;width: 50%;}#sk-container-id-5 div.sk-parallel-item:only-child::after {width: 0;}#sk-container-id-5 div.sk-dashed-wrapped {border: 1px dashed gray;margin: 0 0.4em 0.5em 0.4em;box-sizing: border-box;padding-bottom: 0.4em;background-color: white;}#sk-container-id-5 div.sk-label label {font-family: monospace;font-weight: bold;display: inline-block;line-height: 1.2em;}#sk-container-id-5 div.sk-label-container {text-align: center;}#sk-container-id-5 div.sk-container {/* jupyter's `normalize.less` sets `[hidden] { display: none; }` but bootstrap.min.css set `[hidden] { display: none !important; }` so we also need the `!important` here to be able to override the default hidden behavior on the sphinx rendered scikit-learn.org. See: https://github.com/scikit-learn/scikit-learn/issues/21755 */display: inline-block !important;position: relative;}#sk-container-id-5 div.sk-text-repr-fallback {display: none;}</style><div id=\"sk-container-id-5\" class=\"sk-top-container\"><div class=\"sk-text-repr-fallback\"><pre>GridSearchCV(cv=5, estimator=Ridge(), n_jobs=-1,\n",
              "             param_grid={&#x27;alpha&#x27;: array([0.1, 0.2, 0.3, 0.4, 0.5, 0.6, 0.7, 0.8, 0.9])},\n",
              "             refit=&#x27;r2&#x27;, scoring=[&#x27;r2&#x27;, &#x27;neg_mean_squared_error&#x27;])</pre><b>In a Jupyter environment, please rerun this cell to show the HTML representation or trust the notebook. <br />On GitHub, the HTML representation is unable to render, please try loading this page with nbviewer.org.</b></div><div class=\"sk-container\" hidden><div class=\"sk-item sk-dashed-wrapped\"><div class=\"sk-label-container\"><div class=\"sk-label sk-toggleable\"><input class=\"sk-toggleable__control sk-hidden--visually\" id=\"sk-estimator-id-9\" type=\"checkbox\" ><label for=\"sk-estimator-id-9\" class=\"sk-toggleable__label sk-toggleable__label-arrow\">GridSearchCV</label><div class=\"sk-toggleable__content\"><pre>GridSearchCV(cv=5, estimator=Ridge(), n_jobs=-1,\n",
              "             param_grid={&#x27;alpha&#x27;: array([0.1, 0.2, 0.3, 0.4, 0.5, 0.6, 0.7, 0.8, 0.9])},\n",
              "             refit=&#x27;r2&#x27;, scoring=[&#x27;r2&#x27;, &#x27;neg_mean_squared_error&#x27;])</pre></div></div></div><div class=\"sk-parallel\"><div class=\"sk-parallel-item\"><div class=\"sk-item\"><div class=\"sk-label-container\"><div class=\"sk-label sk-toggleable\"><input class=\"sk-toggleable__control sk-hidden--visually\" id=\"sk-estimator-id-10\" type=\"checkbox\" ><label for=\"sk-estimator-id-10\" class=\"sk-toggleable__label sk-toggleable__label-arrow\">estimator: Ridge</label><div class=\"sk-toggleable__content\"><pre>Ridge()</pre></div></div></div><div class=\"sk-serial\"><div class=\"sk-item\"><div class=\"sk-estimator sk-toggleable\"><input class=\"sk-toggleable__control sk-hidden--visually\" id=\"sk-estimator-id-11\" type=\"checkbox\" ><label for=\"sk-estimator-id-11\" class=\"sk-toggleable__label sk-toggleable__label-arrow\">Ridge</label><div class=\"sk-toggleable__content\"><pre>Ridge()</pre></div></div></div></div></div></div></div></div></div></div>"
            ],
            "text/plain": [
              "GridSearchCV(cv=5, estimator=Ridge(), n_jobs=-1,\n",
              "             param_grid={'alpha': array([0.1, 0.2, 0.3, 0.4, 0.5, 0.6, 0.7, 0.8, 0.9])},\n",
              "             refit='r2', scoring=['r2', 'neg_mean_squared_error'])"
            ]
          },
          "execution_count": 85,
          "metadata": {},
          "output_type": "execute_result"
        }
      ],
      "source": [
        "%%time\n",
        "grid_search.fit(X_train_scaled, y_train)"
      ]
    },
    {
      "cell_type": "code",
      "execution_count": null,
      "id": "df6e89a0",
      "metadata": {
        "id": "df6e89a0",
        "outputId": "9e410e77-c6b5-45e0-b508-7fa9a073722f"
      },
      "outputs": [
        {
          "data": {
            "text/plain": [
              "0.9103425444305813"
            ]
          },
          "execution_count": 86,
          "metadata": {},
          "output_type": "execute_result"
        }
      ],
      "source": [
        "grid_search.best_score_"
      ]
    },
    {
      "cell_type": "code",
      "execution_count": null,
      "id": "3fef3198",
      "metadata": {
        "id": "3fef3198",
        "outputId": "256c6d3d-21a2-4a20-d669-5dba7c0760ed"
      },
      "outputs": [
        {
          "data": {
            "text/html": [
              "<style>#sk-container-id-6 {color: black;background-color: white;}#sk-container-id-6 pre{padding: 0;}#sk-container-id-6 div.sk-toggleable {background-color: white;}#sk-container-id-6 label.sk-toggleable__label {cursor: pointer;display: block;width: 100%;margin-bottom: 0;padding: 0.3em;box-sizing: border-box;text-align: center;}#sk-container-id-6 label.sk-toggleable__label-arrow:before {content: \"▸\";float: left;margin-right: 0.25em;color: #696969;}#sk-container-id-6 label.sk-toggleable__label-arrow:hover:before {color: black;}#sk-container-id-6 div.sk-estimator:hover label.sk-toggleable__label-arrow:before {color: black;}#sk-container-id-6 div.sk-toggleable__content {max-height: 0;max-width: 0;overflow: hidden;text-align: left;background-color: #f0f8ff;}#sk-container-id-6 div.sk-toggleable__content pre {margin: 0.2em;color: black;border-radius: 0.25em;background-color: #f0f8ff;}#sk-container-id-6 input.sk-toggleable__control:checked~div.sk-toggleable__content {max-height: 200px;max-width: 100%;overflow: auto;}#sk-container-id-6 input.sk-toggleable__control:checked~label.sk-toggleable__label-arrow:before {content: \"▾\";}#sk-container-id-6 div.sk-estimator input.sk-toggleable__control:checked~label.sk-toggleable__label {background-color: #d4ebff;}#sk-container-id-6 div.sk-label input.sk-toggleable__control:checked~label.sk-toggleable__label {background-color: #d4ebff;}#sk-container-id-6 input.sk-hidden--visually {border: 0;clip: rect(1px 1px 1px 1px);clip: rect(1px, 1px, 1px, 1px);height: 1px;margin: -1px;overflow: hidden;padding: 0;position: absolute;width: 1px;}#sk-container-id-6 div.sk-estimator {font-family: monospace;background-color: #f0f8ff;border: 1px dotted black;border-radius: 0.25em;box-sizing: border-box;margin-bottom: 0.5em;}#sk-container-id-6 div.sk-estimator:hover {background-color: #d4ebff;}#sk-container-id-6 div.sk-parallel-item::after {content: \"\";width: 100%;border-bottom: 1px solid gray;flex-grow: 1;}#sk-container-id-6 div.sk-label:hover label.sk-toggleable__label {background-color: #d4ebff;}#sk-container-id-6 div.sk-serial::before {content: \"\";position: absolute;border-left: 1px solid gray;box-sizing: border-box;top: 0;bottom: 0;left: 50%;z-index: 0;}#sk-container-id-6 div.sk-serial {display: flex;flex-direction: column;align-items: center;background-color: white;padding-right: 0.2em;padding-left: 0.2em;position: relative;}#sk-container-id-6 div.sk-item {position: relative;z-index: 1;}#sk-container-id-6 div.sk-parallel {display: flex;align-items: stretch;justify-content: center;background-color: white;position: relative;}#sk-container-id-6 div.sk-item::before, #sk-container-id-6 div.sk-parallel-item::before {content: \"\";position: absolute;border-left: 1px solid gray;box-sizing: border-box;top: 0;bottom: 0;left: 50%;z-index: -1;}#sk-container-id-6 div.sk-parallel-item {display: flex;flex-direction: column;z-index: 1;position: relative;background-color: white;}#sk-container-id-6 div.sk-parallel-item:first-child::after {align-self: flex-end;width: 50%;}#sk-container-id-6 div.sk-parallel-item:last-child::after {align-self: flex-start;width: 50%;}#sk-container-id-6 div.sk-parallel-item:only-child::after {width: 0;}#sk-container-id-6 div.sk-dashed-wrapped {border: 1px dashed gray;margin: 0 0.4em 0.5em 0.4em;box-sizing: border-box;padding-bottom: 0.4em;background-color: white;}#sk-container-id-6 div.sk-label label {font-family: monospace;font-weight: bold;display: inline-block;line-height: 1.2em;}#sk-container-id-6 div.sk-label-container {text-align: center;}#sk-container-id-6 div.sk-container {/* jupyter's `normalize.less` sets `[hidden] { display: none; }` but bootstrap.min.css set `[hidden] { display: none !important; }` so we also need the `!important` here to be able to override the default hidden behavior on the sphinx rendered scikit-learn.org. See: https://github.com/scikit-learn/scikit-learn/issues/21755 */display: inline-block !important;position: relative;}#sk-container-id-6 div.sk-text-repr-fallback {display: none;}</style><div id=\"sk-container-id-6\" class=\"sk-top-container\"><div class=\"sk-text-repr-fallback\"><pre>Ridge(alpha=0.2)</pre><b>In a Jupyter environment, please rerun this cell to show the HTML representation or trust the notebook. <br />On GitHub, the HTML representation is unable to render, please try loading this page with nbviewer.org.</b></div><div class=\"sk-container\" hidden><div class=\"sk-item\"><div class=\"sk-estimator sk-toggleable\"><input class=\"sk-toggleable__control sk-hidden--visually\" id=\"sk-estimator-id-12\" type=\"checkbox\" checked><label for=\"sk-estimator-id-12\" class=\"sk-toggleable__label sk-toggleable__label-arrow\">Ridge</label><div class=\"sk-toggleable__content\"><pre>Ridge(alpha=0.2)</pre></div></div></div></div></div>"
            ],
            "text/plain": [
              "Ridge(alpha=0.2)"
            ]
          },
          "execution_count": 87,
          "metadata": {},
          "output_type": "execute_result"
        }
      ],
      "source": [
        "grid_search.best_estimator_"
      ]
    },
    {
      "attachments": {},
      "cell_type": "markdown",
      "id": "ae0416da",
      "metadata": {
        "id": "ae0416da"
      },
      "source": [
        "### ElasticNet"
      ]
    },
    {
      "cell_type": "code",
      "execution_count": null,
      "id": "3bb3c21e",
      "metadata": {
        "id": "3bb3c21e"
      },
      "outputs": [],
      "source": [
        "param_grid1 = {\n",
        "    'alpha' : np.arange(.3, 1, .1),\n",
        "    'l1_ratio' : [0.2, 0.5, 0.8]}    "
      ]
    },
    {
      "cell_type": "code",
      "execution_count": null,
      "id": "49512ab7",
      "metadata": {
        "id": "49512ab7",
        "outputId": "24470436-e16a-4a83-de5d-57ca6cf4df46"
      },
      "outputs": [
        {
          "data": {
            "text/html": [
              "<style>#sk-container-id-7 {color: black;background-color: white;}#sk-container-id-7 pre{padding: 0;}#sk-container-id-7 div.sk-toggleable {background-color: white;}#sk-container-id-7 label.sk-toggleable__label {cursor: pointer;display: block;width: 100%;margin-bottom: 0;padding: 0.3em;box-sizing: border-box;text-align: center;}#sk-container-id-7 label.sk-toggleable__label-arrow:before {content: \"▸\";float: left;margin-right: 0.25em;color: #696969;}#sk-container-id-7 label.sk-toggleable__label-arrow:hover:before {color: black;}#sk-container-id-7 div.sk-estimator:hover label.sk-toggleable__label-arrow:before {color: black;}#sk-container-id-7 div.sk-toggleable__content {max-height: 0;max-width: 0;overflow: hidden;text-align: left;background-color: #f0f8ff;}#sk-container-id-7 div.sk-toggleable__content pre {margin: 0.2em;color: black;border-radius: 0.25em;background-color: #f0f8ff;}#sk-container-id-7 input.sk-toggleable__control:checked~div.sk-toggleable__content {max-height: 200px;max-width: 100%;overflow: auto;}#sk-container-id-7 input.sk-toggleable__control:checked~label.sk-toggleable__label-arrow:before {content: \"▾\";}#sk-container-id-7 div.sk-estimator input.sk-toggleable__control:checked~label.sk-toggleable__label {background-color: #d4ebff;}#sk-container-id-7 div.sk-label input.sk-toggleable__control:checked~label.sk-toggleable__label {background-color: #d4ebff;}#sk-container-id-7 input.sk-hidden--visually {border: 0;clip: rect(1px 1px 1px 1px);clip: rect(1px, 1px, 1px, 1px);height: 1px;margin: -1px;overflow: hidden;padding: 0;position: absolute;width: 1px;}#sk-container-id-7 div.sk-estimator {font-family: monospace;background-color: #f0f8ff;border: 1px dotted black;border-radius: 0.25em;box-sizing: border-box;margin-bottom: 0.5em;}#sk-container-id-7 div.sk-estimator:hover {background-color: #d4ebff;}#sk-container-id-7 div.sk-parallel-item::after {content: \"\";width: 100%;border-bottom: 1px solid gray;flex-grow: 1;}#sk-container-id-7 div.sk-label:hover label.sk-toggleable__label {background-color: #d4ebff;}#sk-container-id-7 div.sk-serial::before {content: \"\";position: absolute;border-left: 1px solid gray;box-sizing: border-box;top: 0;bottom: 0;left: 50%;z-index: 0;}#sk-container-id-7 div.sk-serial {display: flex;flex-direction: column;align-items: center;background-color: white;padding-right: 0.2em;padding-left: 0.2em;position: relative;}#sk-container-id-7 div.sk-item {position: relative;z-index: 1;}#sk-container-id-7 div.sk-parallel {display: flex;align-items: stretch;justify-content: center;background-color: white;position: relative;}#sk-container-id-7 div.sk-item::before, #sk-container-id-7 div.sk-parallel-item::before {content: \"\";position: absolute;border-left: 1px solid gray;box-sizing: border-box;top: 0;bottom: 0;left: 50%;z-index: -1;}#sk-container-id-7 div.sk-parallel-item {display: flex;flex-direction: column;z-index: 1;position: relative;background-color: white;}#sk-container-id-7 div.sk-parallel-item:first-child::after {align-self: flex-end;width: 50%;}#sk-container-id-7 div.sk-parallel-item:last-child::after {align-self: flex-start;width: 50%;}#sk-container-id-7 div.sk-parallel-item:only-child::after {width: 0;}#sk-container-id-7 div.sk-dashed-wrapped {border: 1px dashed gray;margin: 0 0.4em 0.5em 0.4em;box-sizing: border-box;padding-bottom: 0.4em;background-color: white;}#sk-container-id-7 div.sk-label label {font-family: monospace;font-weight: bold;display: inline-block;line-height: 1.2em;}#sk-container-id-7 div.sk-label-container {text-align: center;}#sk-container-id-7 div.sk-container {/* jupyter's `normalize.less` sets `[hidden] { display: none; }` but bootstrap.min.css set `[hidden] { display: none !important; }` so we also need the `!important` here to be able to override the default hidden behavior on the sphinx rendered scikit-learn.org. See: https://github.com/scikit-learn/scikit-learn/issues/21755 */display: inline-block !important;position: relative;}#sk-container-id-7 div.sk-text-repr-fallback {display: none;}</style><div id=\"sk-container-id-7\" class=\"sk-top-container\"><div class=\"sk-text-repr-fallback\"><pre>GridSearchCV(cv=5, estimator=ElasticNet(), n_jobs=-1,\n",
              "             param_grid={&#x27;alpha&#x27;: array([0.3, 0.4, 0.5, 0.6, 0.7, 0.8, 0.9]),\n",
              "                         &#x27;l1_ratio&#x27;: [0.2, 0.5, 0.8]},\n",
              "             refit=&#x27;r2&#x27;, scoring=[&#x27;r2&#x27;, &#x27;neg_mean_squared_error&#x27;])</pre><b>In a Jupyter environment, please rerun this cell to show the HTML representation or trust the notebook. <br />On GitHub, the HTML representation is unable to render, please try loading this page with nbviewer.org.</b></div><div class=\"sk-container\" hidden><div class=\"sk-item sk-dashed-wrapped\"><div class=\"sk-label-container\"><div class=\"sk-label sk-toggleable\"><input class=\"sk-toggleable__control sk-hidden--visually\" id=\"sk-estimator-id-13\" type=\"checkbox\" ><label for=\"sk-estimator-id-13\" class=\"sk-toggleable__label sk-toggleable__label-arrow\">GridSearchCV</label><div class=\"sk-toggleable__content\"><pre>GridSearchCV(cv=5, estimator=ElasticNet(), n_jobs=-1,\n",
              "             param_grid={&#x27;alpha&#x27;: array([0.3, 0.4, 0.5, 0.6, 0.7, 0.8, 0.9]),\n",
              "                         &#x27;l1_ratio&#x27;: [0.2, 0.5, 0.8]},\n",
              "             refit=&#x27;r2&#x27;, scoring=[&#x27;r2&#x27;, &#x27;neg_mean_squared_error&#x27;])</pre></div></div></div><div class=\"sk-parallel\"><div class=\"sk-parallel-item\"><div class=\"sk-item\"><div class=\"sk-label-container\"><div class=\"sk-label sk-toggleable\"><input class=\"sk-toggleable__control sk-hidden--visually\" id=\"sk-estimator-id-14\" type=\"checkbox\" ><label for=\"sk-estimator-id-14\" class=\"sk-toggleable__label sk-toggleable__label-arrow\">estimator: ElasticNet</label><div class=\"sk-toggleable__content\"><pre>ElasticNet()</pre></div></div></div><div class=\"sk-serial\"><div class=\"sk-item\"><div class=\"sk-estimator sk-toggleable\"><input class=\"sk-toggleable__control sk-hidden--visually\" id=\"sk-estimator-id-15\" type=\"checkbox\" ><label for=\"sk-estimator-id-15\" class=\"sk-toggleable__label sk-toggleable__label-arrow\">ElasticNet</label><div class=\"sk-toggleable__content\"><pre>ElasticNet()</pre></div></div></div></div></div></div></div></div></div></div>"
            ],
            "text/plain": [
              "GridSearchCV(cv=5, estimator=ElasticNet(), n_jobs=-1,\n",
              "             param_grid={'alpha': array([0.3, 0.4, 0.5, 0.6, 0.7, 0.8, 0.9]),\n",
              "                         'l1_ratio': [0.2, 0.5, 0.8]},\n",
              "             refit='r2', scoring=['r2', 'neg_mean_squared_error'])"
            ]
          },
          "execution_count": 89,
          "metadata": {},
          "output_type": "execute_result"
        }
      ],
      "source": [
        "grid_search1 = GridSearchCV(estimator = ElasticNet(),\n",
        "                           param_grid = param_grid1,\n",
        "                           cv = 5,\n",
        "                           scoring = ['r2','neg_mean_squared_error'],\n",
        "                           refit = 'r2',\n",
        "                           n_jobs = -1)\n",
        "\n",
        "grid_search1"
      ]
    },
    {
      "cell_type": "code",
      "execution_count": null,
      "id": "23686149",
      "metadata": {
        "id": "23686149",
        "outputId": "5f3b8179-de72-4663-fcbe-462545047d66"
      },
      "outputs": [
        {
          "name": "stdout",
          "output_type": "stream",
          "text": [
            "CPU times: user 246 ms, sys: 33.5 ms, total: 280 ms\n",
            "Wall time: 308 ms\n"
          ]
        },
        {
          "data": {
            "text/html": [
              "<style>#sk-container-id-8 {color: black;background-color: white;}#sk-container-id-8 pre{padding: 0;}#sk-container-id-8 div.sk-toggleable {background-color: white;}#sk-container-id-8 label.sk-toggleable__label {cursor: pointer;display: block;width: 100%;margin-bottom: 0;padding: 0.3em;box-sizing: border-box;text-align: center;}#sk-container-id-8 label.sk-toggleable__label-arrow:before {content: \"▸\";float: left;margin-right: 0.25em;color: #696969;}#sk-container-id-8 label.sk-toggleable__label-arrow:hover:before {color: black;}#sk-container-id-8 div.sk-estimator:hover label.sk-toggleable__label-arrow:before {color: black;}#sk-container-id-8 div.sk-toggleable__content {max-height: 0;max-width: 0;overflow: hidden;text-align: left;background-color: #f0f8ff;}#sk-container-id-8 div.sk-toggleable__content pre {margin: 0.2em;color: black;border-radius: 0.25em;background-color: #f0f8ff;}#sk-container-id-8 input.sk-toggleable__control:checked~div.sk-toggleable__content {max-height: 200px;max-width: 100%;overflow: auto;}#sk-container-id-8 input.sk-toggleable__control:checked~label.sk-toggleable__label-arrow:before {content: \"▾\";}#sk-container-id-8 div.sk-estimator input.sk-toggleable__control:checked~label.sk-toggleable__label {background-color: #d4ebff;}#sk-container-id-8 div.sk-label input.sk-toggleable__control:checked~label.sk-toggleable__label {background-color: #d4ebff;}#sk-container-id-8 input.sk-hidden--visually {border: 0;clip: rect(1px 1px 1px 1px);clip: rect(1px, 1px, 1px, 1px);height: 1px;margin: -1px;overflow: hidden;padding: 0;position: absolute;width: 1px;}#sk-container-id-8 div.sk-estimator {font-family: monospace;background-color: #f0f8ff;border: 1px dotted black;border-radius: 0.25em;box-sizing: border-box;margin-bottom: 0.5em;}#sk-container-id-8 div.sk-estimator:hover {background-color: #d4ebff;}#sk-container-id-8 div.sk-parallel-item::after {content: \"\";width: 100%;border-bottom: 1px solid gray;flex-grow: 1;}#sk-container-id-8 div.sk-label:hover label.sk-toggleable__label {background-color: #d4ebff;}#sk-container-id-8 div.sk-serial::before {content: \"\";position: absolute;border-left: 1px solid gray;box-sizing: border-box;top: 0;bottom: 0;left: 50%;z-index: 0;}#sk-container-id-8 div.sk-serial {display: flex;flex-direction: column;align-items: center;background-color: white;padding-right: 0.2em;padding-left: 0.2em;position: relative;}#sk-container-id-8 div.sk-item {position: relative;z-index: 1;}#sk-container-id-8 div.sk-parallel {display: flex;align-items: stretch;justify-content: center;background-color: white;position: relative;}#sk-container-id-8 div.sk-item::before, #sk-container-id-8 div.sk-parallel-item::before {content: \"\";position: absolute;border-left: 1px solid gray;box-sizing: border-box;top: 0;bottom: 0;left: 50%;z-index: -1;}#sk-container-id-8 div.sk-parallel-item {display: flex;flex-direction: column;z-index: 1;position: relative;background-color: white;}#sk-container-id-8 div.sk-parallel-item:first-child::after {align-self: flex-end;width: 50%;}#sk-container-id-8 div.sk-parallel-item:last-child::after {align-self: flex-start;width: 50%;}#sk-container-id-8 div.sk-parallel-item:only-child::after {width: 0;}#sk-container-id-8 div.sk-dashed-wrapped {border: 1px dashed gray;margin: 0 0.4em 0.5em 0.4em;box-sizing: border-box;padding-bottom: 0.4em;background-color: white;}#sk-container-id-8 div.sk-label label {font-family: monospace;font-weight: bold;display: inline-block;line-height: 1.2em;}#sk-container-id-8 div.sk-label-container {text-align: center;}#sk-container-id-8 div.sk-container {/* jupyter's `normalize.less` sets `[hidden] { display: none; }` but bootstrap.min.css set `[hidden] { display: none !important; }` so we also need the `!important` here to be able to override the default hidden behavior on the sphinx rendered scikit-learn.org. See: https://github.com/scikit-learn/scikit-learn/issues/21755 */display: inline-block !important;position: relative;}#sk-container-id-8 div.sk-text-repr-fallback {display: none;}</style><div id=\"sk-container-id-8\" class=\"sk-top-container\"><div class=\"sk-text-repr-fallback\"><pre>GridSearchCV(cv=5, estimator=ElasticNet(), n_jobs=-1,\n",
              "             param_grid={&#x27;alpha&#x27;: array([0.3, 0.4, 0.5, 0.6, 0.7, 0.8, 0.9]),\n",
              "                         &#x27;l1_ratio&#x27;: [0.2, 0.5, 0.8]},\n",
              "             refit=&#x27;r2&#x27;, scoring=[&#x27;r2&#x27;, &#x27;neg_mean_squared_error&#x27;])</pre><b>In a Jupyter environment, please rerun this cell to show the HTML representation or trust the notebook. <br />On GitHub, the HTML representation is unable to render, please try loading this page with nbviewer.org.</b></div><div class=\"sk-container\" hidden><div class=\"sk-item sk-dashed-wrapped\"><div class=\"sk-label-container\"><div class=\"sk-label sk-toggleable\"><input class=\"sk-toggleable__control sk-hidden--visually\" id=\"sk-estimator-id-16\" type=\"checkbox\" ><label for=\"sk-estimator-id-16\" class=\"sk-toggleable__label sk-toggleable__label-arrow\">GridSearchCV</label><div class=\"sk-toggleable__content\"><pre>GridSearchCV(cv=5, estimator=ElasticNet(), n_jobs=-1,\n",
              "             param_grid={&#x27;alpha&#x27;: array([0.3, 0.4, 0.5, 0.6, 0.7, 0.8, 0.9]),\n",
              "                         &#x27;l1_ratio&#x27;: [0.2, 0.5, 0.8]},\n",
              "             refit=&#x27;r2&#x27;, scoring=[&#x27;r2&#x27;, &#x27;neg_mean_squared_error&#x27;])</pre></div></div></div><div class=\"sk-parallel\"><div class=\"sk-parallel-item\"><div class=\"sk-item\"><div class=\"sk-label-container\"><div class=\"sk-label sk-toggleable\"><input class=\"sk-toggleable__control sk-hidden--visually\" id=\"sk-estimator-id-17\" type=\"checkbox\" ><label for=\"sk-estimator-id-17\" class=\"sk-toggleable__label sk-toggleable__label-arrow\">estimator: ElasticNet</label><div class=\"sk-toggleable__content\"><pre>ElasticNet()</pre></div></div></div><div class=\"sk-serial\"><div class=\"sk-item\"><div class=\"sk-estimator sk-toggleable\"><input class=\"sk-toggleable__control sk-hidden--visually\" id=\"sk-estimator-id-18\" type=\"checkbox\" ><label for=\"sk-estimator-id-18\" class=\"sk-toggleable__label sk-toggleable__label-arrow\">ElasticNet</label><div class=\"sk-toggleable__content\"><pre>ElasticNet()</pre></div></div></div></div></div></div></div></div></div></div>"
            ],
            "text/plain": [
              "GridSearchCV(cv=5, estimator=ElasticNet(), n_jobs=-1,\n",
              "             param_grid={'alpha': array([0.3, 0.4, 0.5, 0.6, 0.7, 0.8, 0.9]),\n",
              "                         'l1_ratio': [0.2, 0.5, 0.8]},\n",
              "             refit='r2', scoring=['r2', 'neg_mean_squared_error'])"
            ]
          },
          "execution_count": 90,
          "metadata": {},
          "output_type": "execute_result"
        }
      ],
      "source": [
        "%%time\n",
        "grid_search1.fit(X_train_scaled, y_train)"
      ]
    },
    {
      "cell_type": "code",
      "execution_count": null,
      "id": "68fa52e9",
      "metadata": {
        "id": "68fa52e9",
        "outputId": "7d6b8bae-9e37-449e-a2d0-67d4269b48f6"
      },
      "outputs": [
        {
          "data": {
            "text/plain": [
              "0.8835589064790785"
            ]
          },
          "execution_count": 91,
          "metadata": {},
          "output_type": "execute_result"
        }
      ],
      "source": [
        "grid_search1.best_score_"
      ]
    },
    {
      "cell_type": "code",
      "execution_count": null,
      "id": "e302e676",
      "metadata": {
        "id": "e302e676",
        "outputId": "fa8e6f03-a435-4fb5-d274-ae8a47276cad"
      },
      "outputs": [
        {
          "data": {
            "text/html": [
              "<style>#sk-container-id-9 {color: black;background-color: white;}#sk-container-id-9 pre{padding: 0;}#sk-container-id-9 div.sk-toggleable {background-color: white;}#sk-container-id-9 label.sk-toggleable__label {cursor: pointer;display: block;width: 100%;margin-bottom: 0;padding: 0.3em;box-sizing: border-box;text-align: center;}#sk-container-id-9 label.sk-toggleable__label-arrow:before {content: \"▸\";float: left;margin-right: 0.25em;color: #696969;}#sk-container-id-9 label.sk-toggleable__label-arrow:hover:before {color: black;}#sk-container-id-9 div.sk-estimator:hover label.sk-toggleable__label-arrow:before {color: black;}#sk-container-id-9 div.sk-toggleable__content {max-height: 0;max-width: 0;overflow: hidden;text-align: left;background-color: #f0f8ff;}#sk-container-id-9 div.sk-toggleable__content pre {margin: 0.2em;color: black;border-radius: 0.25em;background-color: #f0f8ff;}#sk-container-id-9 input.sk-toggleable__control:checked~div.sk-toggleable__content {max-height: 200px;max-width: 100%;overflow: auto;}#sk-container-id-9 input.sk-toggleable__control:checked~label.sk-toggleable__label-arrow:before {content: \"▾\";}#sk-container-id-9 div.sk-estimator input.sk-toggleable__control:checked~label.sk-toggleable__label {background-color: #d4ebff;}#sk-container-id-9 div.sk-label input.sk-toggleable__control:checked~label.sk-toggleable__label {background-color: #d4ebff;}#sk-container-id-9 input.sk-hidden--visually {border: 0;clip: rect(1px 1px 1px 1px);clip: rect(1px, 1px, 1px, 1px);height: 1px;margin: -1px;overflow: hidden;padding: 0;position: absolute;width: 1px;}#sk-container-id-9 div.sk-estimator {font-family: monospace;background-color: #f0f8ff;border: 1px dotted black;border-radius: 0.25em;box-sizing: border-box;margin-bottom: 0.5em;}#sk-container-id-9 div.sk-estimator:hover {background-color: #d4ebff;}#sk-container-id-9 div.sk-parallel-item::after {content: \"\";width: 100%;border-bottom: 1px solid gray;flex-grow: 1;}#sk-container-id-9 div.sk-label:hover label.sk-toggleable__label {background-color: #d4ebff;}#sk-container-id-9 div.sk-serial::before {content: \"\";position: absolute;border-left: 1px solid gray;box-sizing: border-box;top: 0;bottom: 0;left: 50%;z-index: 0;}#sk-container-id-9 div.sk-serial {display: flex;flex-direction: column;align-items: center;background-color: white;padding-right: 0.2em;padding-left: 0.2em;position: relative;}#sk-container-id-9 div.sk-item {position: relative;z-index: 1;}#sk-container-id-9 div.sk-parallel {display: flex;align-items: stretch;justify-content: center;background-color: white;position: relative;}#sk-container-id-9 div.sk-item::before, #sk-container-id-9 div.sk-parallel-item::before {content: \"\";position: absolute;border-left: 1px solid gray;box-sizing: border-box;top: 0;bottom: 0;left: 50%;z-index: -1;}#sk-container-id-9 div.sk-parallel-item {display: flex;flex-direction: column;z-index: 1;position: relative;background-color: white;}#sk-container-id-9 div.sk-parallel-item:first-child::after {align-self: flex-end;width: 50%;}#sk-container-id-9 div.sk-parallel-item:last-child::after {align-self: flex-start;width: 50%;}#sk-container-id-9 div.sk-parallel-item:only-child::after {width: 0;}#sk-container-id-9 div.sk-dashed-wrapped {border: 1px dashed gray;margin: 0 0.4em 0.5em 0.4em;box-sizing: border-box;padding-bottom: 0.4em;background-color: white;}#sk-container-id-9 div.sk-label label {font-family: monospace;font-weight: bold;display: inline-block;line-height: 1.2em;}#sk-container-id-9 div.sk-label-container {text-align: center;}#sk-container-id-9 div.sk-container {/* jupyter's `normalize.less` sets `[hidden] { display: none; }` but bootstrap.min.css set `[hidden] { display: none !important; }` so we also need the `!important` here to be able to override the default hidden behavior on the sphinx rendered scikit-learn.org. See: https://github.com/scikit-learn/scikit-learn/issues/21755 */display: inline-block !important;position: relative;}#sk-container-id-9 div.sk-text-repr-fallback {display: none;}</style><div id=\"sk-container-id-9\" class=\"sk-top-container\"><div class=\"sk-text-repr-fallback\"><pre>ElasticNet(alpha=0.3, l1_ratio=0.8)</pre><b>In a Jupyter environment, please rerun this cell to show the HTML representation or trust the notebook. <br />On GitHub, the HTML representation is unable to render, please try loading this page with nbviewer.org.</b></div><div class=\"sk-container\" hidden><div class=\"sk-item\"><div class=\"sk-estimator sk-toggleable\"><input class=\"sk-toggleable__control sk-hidden--visually\" id=\"sk-estimator-id-19\" type=\"checkbox\" checked><label for=\"sk-estimator-id-19\" class=\"sk-toggleable__label sk-toggleable__label-arrow\">ElasticNet</label><div class=\"sk-toggleable__content\"><pre>ElasticNet(alpha=0.3, l1_ratio=0.8)</pre></div></div></div></div></div>"
            ],
            "text/plain": [
              "ElasticNet(alpha=0.3, l1_ratio=0.8)"
            ]
          },
          "execution_count": 92,
          "metadata": {},
          "output_type": "execute_result"
        }
      ],
      "source": [
        "grid_search1.best_estimator_"
      ]
    },
    {
      "attachments": {},
      "cell_type": "markdown",
      "id": "26bc3b38",
      "metadata": {
        "id": "26bc3b38"
      },
      "source": [
        "# 👨‍🔬 Conclusion"
      ]
    },
    {
      "attachments": {},
      "cell_type": "markdown",
      "id": "348a89e7",
      "metadata": {
        "id": "348a89e7"
      },
      "source": [
        "- The models performed slightly better by reducing the n-dimensions after removing several features. モデルは、いくつかの特徴量を削除した後、n次元を減らすことでわずかに改善されました。\n",
        "- I was unable to significantly improve model performance by tweaking hyperparameters such as the learning rate (alpha), or the L1 loss function penalty.学習率（アルファ）やL1損失関数ペナルティなどのハイパーパラメータを微調整しても、モデルの性能を大幅に改善することができませんでした。\n",
        "- To further improve model performance, it may be worth creating a new feature to rank the cruise companies based on quality/ticket value.モデルの性能をさらに向上させるためには、クルーズ会社を品質/チケット価値に基づいてランク付けするための新しい特徴量を作成することが価値があるかもしれません。"
      ]
    },
    {
      "cell_type": "code",
      "execution_count": null,
      "id": "d98beca8",
      "metadata": {
        "id": "d98beca8"
      },
      "outputs": [],
      "source": []
    }
  ],
  "metadata": {
    "colab": {
      "provenance": []
    },
    "kernelspec": {
      "display_name": "Python 3 (ipykernel)",
      "language": "python",
      "name": "python3"
    },
    "language_info": {
      "codemirror_mode": {
        "name": "ipython",
        "version": 3
      },
      "file_extension": ".py",
      "mimetype": "text/x-python",
      "name": "python",
      "nbconvert_exporter": "python",
      "pygments_lexer": "ipython3",
      "version": "3.10.4"
    },
    "toc": {
      "base_numbering": 1,
      "nav_menu": {},
      "number_sections": true,
      "sideBar": true,
      "skip_h1_title": false,
      "title_cell": "Table of Contents",
      "title_sidebar": "Contents",
      "toc_cell": false,
      "toc_position": {
        "height": "calc(100% - 180px)",
        "left": "10px",
        "top": "150px",
        "width": "273.447px"
      },
      "toc_section_display": true,
      "toc_window_display": true
    }
  },
  "nbformat": 4,
  "nbformat_minor": 5
}
